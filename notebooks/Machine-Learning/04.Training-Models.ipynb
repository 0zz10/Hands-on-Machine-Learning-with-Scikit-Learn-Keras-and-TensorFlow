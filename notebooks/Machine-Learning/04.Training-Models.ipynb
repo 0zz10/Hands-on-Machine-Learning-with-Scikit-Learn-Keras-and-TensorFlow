{
 "cells": [
  {
   "cell_type": "markdown",
   "metadata": {},
   "source": [
    "# Chapter 4. Training Models\n",
    "\n",
    "- In many situations, you need to understand the implementation of many algorithms.\n",
    "- But understanding the underlying logic of machine learning algorithms will help you to:\n",
    "    - Pick the right one for the task\n",
    "    - Pick a good initial set of hyper-parameters\n",
    "    - Pick a good training algorithm\n",
    "    - ...\n",
    "- lastly, most of the topics discussed in this chapter will be essential for understanding neural networks.\n",
    "- In this chapter, we will start by lookin at linear regression training from two different angles:\n",
    "    - Using a direct \"closed-form\" analytical method to get the optimal parameters for the linear model\n",
    "    - Using an interative optimization method called gradient descent.\n",
    "        - It gradually tweaks the model parameters until it converges to the same set of parameters found by method 1.\n",
    "        - we will take a look at multiple types of gradient descent: stochastic GD, batch GD, Mini-batch GD.\n",
    "- Next we will look at polynomial regression, or models that can fit non-linear datasets.\n",
    "- Then we will look at several regularization techniques that will help up reduce the overfitting typically found in Polynomial models.\n",
    "- Finally, we will look at two popular models used for classification tasks: Logistic regression & softmax regression."
   ]
  },
  {
   "cell_type": "markdown",
   "metadata": {},
   "source": [
    "## Linear Regression\n",
    "\n",
    "- In chapter I, we looked at a simple model for *Life Satisfaction*:\n",
    "$$life\\_satisfaction = \\theta_{0} + \\theta_{1} \\times GDP\\_per\\_capita$$\n",
    "- This model is just a linear function of `GDP_per_Capita` with $\\theta_{0}$ and $\\theta_{1}$ as parameters.\n",
    "- A linear model makes a prediction by simply computing the weighted sum of the input features + a constant called a bias term.\n",
    "- More generally:\n",
    "$$\\hat{y} = \\theta_{0} + \\theta_{1}x_{1} + \\theta_{2}x_{2} + \\dots + \\theta_{n}x_{n}$$\n",
    "- This can be written much more consicely using its vectorized form:\n",
    "$$\n",
    "\\hat{y}=h_{\\theta}(x)=\\theta \\cdot x \\space | \\space\n",
    "\\theta=\\begin{bmatrix} \\theta_{0}  \\\\ \\theta_{1}  \\\\ \\vdots  \\\\ \\theta_{n} \\end{bmatrix},\n",
    "x=\\begin{bmatrix} 1 \\\\ x_{1} \\\\ \\vdots \\\\ x_{n} \\end{bmatrix}\n",
    "$$\n",
    "- *Note:* $\\cdot$ in $\\theta \\cdot x$ represent the dot product & not vector multiplication.\n",
    "- $h_{\\theta}(x)$ is the hypothesis function using parameters $\\theta$.\n",
    "- Note\n",
    "    - In ML, vectors are often represented as column vectors.\n",
    "    - Because $\\theta$ and $x$ are both column vectors, we can write the prediction as follows:\n",
    "$$\\hat{y} = \\theta^{T} x$$\n",
    "        - Now, $\\hat{y}$ is a single-cell matrix resulting from matrix multiplication.\n",
    "    - In this book, we will use this notation to avoid switching between dot products and matrix multiplications.\n",
    "- Training a model means adjusting its parameters so it best fits the data.\n",
    "- For us to succeed, we first need to describe what do we mean by \"best fitting the data\". \n",
    "- We pick the mean sqaured error ($MSE$) as measure of the model performance:\n",
    "$$MSE(X,h_{\\theta}) = \\frac{1}{m} \\sum_{i=1}^{m} (\\theta^{T}x^{(i)} - y^{(i)})^2$$\n",
    "- Where $X$ is the training data set represented as $X=\\{(x_{1},y_{1}), (x_{2},y_{2}), \\dots, (x_{m},y_{m})\\}$"
   ]
  },
  {
   "cell_type": "markdown",
   "metadata": {},
   "source": [
    "### The Normal Equation\n",
    "- To find $\\theta$ that minimizes the cost/loss function $MSE(\\theta)$, there is a closed form solution.\n",
    "- In other words, a mathematical equation that gives the result directly, and it's called the normal equation.\n",
    "$$\\hat{\\theta}=(X^{T}X)^{-1}X^{T}y$$\n",
    "- $\\hat{\\theta}$ is the value of $\\theta$ that minimizes the cost function $MSE(\\theta)$.\n",
    "- Let's generate some linear data to test this equation:"
   ]
  },
  {
   "cell_type": "code",
   "execution_count": 1,
   "metadata": {},
   "outputs": [],
   "source": [
    "import numpy as np\n",
    "import matplotlib.pyplot as plt\n",
    "plt.style.use('default')"
   ]
  },
  {
   "cell_type": "code",
   "execution_count": 2,
   "metadata": {},
   "outputs": [],
   "source": [
    "X = 2 * np.random.rand(100, 1)\n",
    "y = 4 + 3 * X + np.random.randn(100, 1)"
   ]
  },
  {
   "cell_type": "code",
   "execution_count": 3,
   "metadata": {},
   "outputs": [
    {
     "data": {
      "image/png": "[encoded data removed]",
      "text/plain": [
       "<Figure size 432x288 with 1 Axes>"
      ]
     },
     "metadata": {
      "needs_background": "light"
     },
     "output_type": "display_data"
    }
   ],
   "source": [
    "plt.scatter(x=X, y=y)\n",
    "plt.xlabel('X')\n",
    "plt.ylabel('y')\n",
    "plt.show()"
   ]
  },
  {
   "cell_type": "markdown",
   "metadata": {},
   "source": [
    "- Now let's compute $\\hat{\\theta}$ using the normal equation:"
   ]
  },
  {
   "cell_type": "code",
   "execution_count": 4,
   "metadata": {},
   "outputs": [],
   "source": [
    "X_b = np.c_[np.ones_like(X), X]"
   ]
  },
  {
   "cell_type": "code",
   "execution_count": 5,
   "metadata": {},
   "outputs": [
    {
     "data": {
      "text/plain": [
       "array([[3.77976325],\n",
       "       [3.02249967]])"
      ]
     },
     "execution_count": 5,
     "metadata": {},
     "output_type": "execute_result"
    }
   ],
   "source": [
    "theta_best = np.linalg.inv(X_b.T.dot(X_b)).dot(X_b.T).dot(y)\n",
    "theta_best"
   ]
  },
  {
   "cell_type": "markdown",
   "metadata": {},
   "source": [
    "- The parameters that we used to generate the data (with some noise) are $\\theta_{0}=4$ and $\\theta_{1}=3$.\n",
    "- The noise was responsible for not making it possible to recover the initial parameters $\\theta_{0}$ & $\\theta_{1}$.\n",
    "- Now we can make predictions using our optimal parameters:"
   ]
  },
  {
   "cell_type": "code",
   "execution_count": 6,
   "metadata": {},
   "outputs": [
    {
     "data": {
      "text/plain": [
       "(2, 2)"
      ]
     },
     "execution_count": 6,
     "metadata": {},
     "output_type": "execute_result"
    }
   ],
   "source": [
    "X_ = np.array([[0], [2]])\n",
    "X_ = np.c_[np.ones_like(X_), X_].T\n",
    "X_.shape"
   ]
  },
  {
   "cell_type": "code",
   "execution_count": 7,
   "metadata": {},
   "outputs": [],
   "source": [
    "y_hat = np.matmul(theta_best.T, X_)"
   ]
  },
  {
   "cell_type": "code",
   "execution_count": 8,
   "metadata": {},
   "outputs": [
    {
     "data": {
      "image/png": "[encoded data removed]",
      "text/plain": [
       "<Figure size 432x288 with 1 Axes>"
      ]
     },
     "metadata": {
      "needs_background": "light"
     },
     "output_type": "display_data"
    }
   ],
   "source": [
    "plt.scatter(x=X, y=y)\n",
    "plt.plot([0,2], y_hat.flatten(), color='red', label='Predictions')\n",
    "plt.xlabel('X')\n",
    "plt.ylabel('y')\n",
    "plt.legend()\n",
    "plt.show()"
   ]
  },
  {
   "cell_type": "markdown",
   "metadata": {},
   "source": [
    "- Performing Linear Regression using scikit-learn is also simple:"
   ]
  },
  {
   "cell_type": "code",
   "execution_count": 9,
   "metadata": {},
   "outputs": [],
   "source": [
    "from sklearn.linear_model import LinearRegression"
   ]
  },
  {
   "cell_type": "code",
   "execution_count": 10,
   "metadata": {},
   "outputs": [],
   "source": [
    "lin_reg = LinearRegression(n_jobs=-1)"
   ]
  },
  {
   "cell_type": "code",
   "execution_count": 11,
   "metadata": {},
   "outputs": [
    {
     "data": {
      "text/plain": [
       "LinearRegression(copy_X=True, fit_intercept=True, n_jobs=-1, normalize=False)"
      ]
     },
     "execution_count": 11,
     "metadata": {},
     "output_type": "execute_result"
    }
   ],
   "source": [
    "lin_reg.fit(X, y)"
   ]
  },
  {
   "cell_type": "code",
   "execution_count": 12,
   "metadata": {},
   "outputs": [
    {
     "data": {
      "text/plain": [
       "(array([3.77976325]), array([[3.02249967]]))"
      ]
     },
     "execution_count": 12,
     "metadata": {},
     "output_type": "execute_result"
    }
   ],
   "source": [
    "lin_reg.intercept_, lin_reg.coef_"
   ]
  },
  {
   "cell_type": "code",
   "execution_count": 13,
   "metadata": {},
   "outputs": [
    {
     "data": {
      "text/plain": [
       "array([[3.77976325],\n",
       "       [9.82476258]])"
      ]
     },
     "execution_count": 13,
     "metadata": {},
     "output_type": "execute_result"
    }
   ],
   "source": [
    "lin_reg.predict(np.array([[0],[2]]))"
   ]
  },
  {
   "cell_type": "markdown",
   "metadata": {},
   "source": [
    "- The `LinearRegression` class is based on `scipy.linalg.lstsq` function which you could call directly:"
   ]
  },
  {
   "cell_type": "code",
   "execution_count": 14,
   "metadata": {},
   "outputs": [],
   "source": [
    "theta_best_svd, residuals, rank, s = np.linalg.lstsq(X_b, y, rcond=1e-6)"
   ]
  },
  {
   "cell_type": "code",
   "execution_count": 15,
   "metadata": {},
   "outputs": [
    {
     "data": {
      "text/plain": [
       "array([[3.77976325],\n",
       "       [3.02249967]])"
      ]
     },
     "execution_count": 15,
     "metadata": {},
     "output_type": "execute_result"
    }
   ],
   "source": [
    "theta_best_svd"
   ]
  },
  {
   "cell_type": "markdown",
   "metadata": {},
   "source": [
    "- The function computes $\\hat{\\theta}=X^{+}y$ where $X^{+}$ is the Moore-Penrose inverse, $X^{+}=(X^{T}X)^{-1}X^{T}$.\n",
    "    - You can compute it directly:"
   ]
  },
  {
   "cell_type": "code",
   "execution_count": 16,
   "metadata": {},
   "outputs": [
    {
     "data": {
      "text/plain": [
       "array([[3.77976325],\n",
       "       [3.02249967]])"
      ]
     },
     "execution_count": 16,
     "metadata": {},
     "output_type": "execute_result"
    }
   ],
   "source": [
    "np.linalg.pinv(X_b).dot(y)"
   ]
  },
  {
   "cell_type": "markdown",
   "metadata": {},
   "source": [
    "- The pseudoinverse itself is computed using a **standard matrix vectorization** technique called **Singular Value Decomposition** (SVD).\n",
    "    - SVD can decompose the training set $X$ into the matrix multiplication of 3 matrices: $U \\space \\Sigma \\space V^{T}$.\n",
    "    - As a result, we have $X^{+}=V \\Sigma^{+} U^{T}$\n",
    "    - To compute the matrix $\\Sigma^{+}$, the algorithm takes $\\Sigma$ and:\n",
    "        - Sets to zero all values smaller than an $\\epsilon$\n",
    "        - Replaces all the non-zero values with their inverse\n",
    "        - Finally transposes the resulting matrix.\n",
    "- This approach is more efficient than directly computing the normal equation\n",
    "    - It handles edge cases nicely.\n",
    "- The nomral equation may not work if $X^{T}X$ is not invertible but the pseudoinverse is always defined."
   ]
  },
  {
   "cell_type": "markdown",
   "metadata": {},
   "source": [
    "### Computational Complexity\n",
    "\n",
    "- The normal equation computes the inverse of $X^{T}X$, which is an $(n+1) \\times (n+1)$ matrix (where n is the number of features).\n",
    "- The computation complexity of inverting such a matrix is typically about $O(n^{2.4})$ to $O(n^{3})$, depending on the implementation.\n",
    "- In other words, **if you double the number of features, you will increase the computation time by x5.3 to x8.**\n",
    "- Notes\n",
    "    - Both the normal equation & SVD approaches get very slow with a large number of features (100,000).\n",
    "    - On a positive side, both are linear when it comes to the number of instances (or observations) you have in $X$.\n",
    "- Once you trained your model using the Normal equation or SVD, predictions are exported really fast.\n",
    "     - Linear complexity on both instances and features.\n",
    "- Now we will look at a completely different way of finding the optimal parameters $\\theta$\n",
    "    - **It is suitable when you have too many features or instances you can't fit in memory**:"
   ]
  },
  {
   "cell_type": "markdown",
   "metadata": {},
   "source": [
    "## Gradient Descent\n",
    "\n",
    "- Gradient Descent is a generic optimization algorithm capable of finding solutions to a wide veriety of problems.\n",
    "- The general idea of gradient descent is to tweak a model's parameters iteratively until we converge to an optimal set of parameters $\\hat{\\theta}$.\n",
    "- Suppose you are lost in the mountain with dense fog, you can't see anything, you only can feel the ground below your feet. and you want to go home.\n",
    "    - A good strategy is to move in the direction of the steepest slope.\n",
    "    - This is exactly what gradient descent does.\n",
    "- GD measures the local gradient of the error function with regards to the parameter function $\\theta$ and goes in the direction of descending gradient.\n",
    "- **Once the gradient is Zero, you have reached a minimum**.\n",
    "- Practically, you start by initializing $\\theta$ with random values (this is called **random initialization**).\n",
    "- Then you improve it gradually, taking one baby step at a time.\n",
    "    - Each step attempting to decrease the cost function, until you converge to a minimum:\n",
    "    \n",
    "<div style=\"text-align:center;\"><img style=\"width: 50%;\" src=\"static/imgs/GD.png\"></div>\n",
    "\n",
    "- An important parameter in gradient descent is the size of the step, determined by the *learning rate* hyper-parameter.\n",
    "    - If the learning rate is too small, the algorithm will take a long time to convert to a minimum.\n",
    "    - If the learning rate is too big, the algorithm my jump infinately between intervals or even diverge.\n",
    "- Finally, not all cost functions look like nice, regular bowls.\n",
    "    - there may be holes/ridges/plateaus and all sorts of irregular terrains.\n",
    "- The curvatures of most cost functions is challenging.\n",
    "- As a result, the initialization of your parameters play an important role, depending on where did you start, you might end up in a place or another:\n",
    "\n",
    "<div style=\"text-align:center;\"><img style=\"width: 50%;\" src=\"static/imgs/Loss_curvature.png\"></div>\n",
    "\n",
    "- Fortunately, $MSE$ for Linear regression is a convex function, meaning, It's garanteed that the found minimum is th global minimum of the function.\n",
    "    - No local minima, just one **global minimum**\n",
    "- It's also a continuous function with a slope that never changes ubruptly (Lipschitz continuious).\n",
    "- The Cost function has a shape of a bowl\n",
    "    - But it can be an elongated bowl without feature scaling (because the dynamic range of each feature's parameter will be different):\n",
    "\n",
    "<div style=\"text-align:center;\"><img style=\"width: 50%;\" src=\"static/imgs/scaling_effect.png\"></div>\n",
    "\n",
    "- By not doing feature scaling and by enforcing a constant learning rate for both feature parameters, the algorithm will take longer to reach the global minimum.\n",
    "- Warning: When using gradient descent, make sure that all features are scaled.\n",
    "- Briefly, when we are training the model, we are effectively **searching** for a parameter set that minimizes the cost function.\n",
    "    - **It's a search in the model's parameter space**\n",
    "        - The more parameters the model has, the more dimensions the space has, the harder for us to find the optimal set of parameters."
   ]
  },
  {
   "cell_type": "markdown",
   "metadata": {},
   "source": [
    "### Batch Gradient Descent\n",
    "\n",
    "- To implement Gradient Descent, you need to compute the gradient of the cost function with regards to each model parameter $\\theta_{j}$.\n",
    "    - This is called a partial derivative.\n",
    "- Let's compute the partial derivative of our previously defined cost function $MSE$:\n",
    "\n",
    "$$\\frac{\\partial{J}}{\\partial{\\theta_{j}}}(\\theta)=\\frac{2}{m}\\sum_{i=1}^{m}(\\theta^{T}x^{(i)}-y^{(i)})x_{j}^{(i)}$$\n",
    "\n",
    "- instead of computing the partial derivatives individually, we can give a general expression for batch mean squared error gradient:\n",
    "- We have:\n",
    "$$MSE(\\theta)=\\frac{1}{m}(X\\theta - y)^2$$\n",
    "- So:\n",
    "$$\\nabla_{\\theta}MSE(\\theta)=\\frac{2}{m}X\\cdot(X\\theta-y)$$\n",
    "- & because we prefer matrix multiplication over the dot product notation:\n",
    "$$\\nabla_{\\theta}MSE(\\theta)=\\frac{2}{m}X^{T}(X\\theta-y)$$\n",
    "- Because, for two vectors $w$ and $x$:\n",
    "$$w \\cdot x = w^{T}x$$\n",
    "- Notice that this formula involves calculating the gradient over the whole training set ($X$) for every learning step.\n",
    "    - This is why this algorithm is called `Batch Gradient Descent`, the batch represending teh whole training set.\n",
    "    - As a result, It's very slow on large training sets.\n",
    "    - However, GD scales well with the number of features.\n",
    "- Once you have the gradient vector, which points uphill, go in the opposite direction to go downhill.\n",
    "- The gradient descent algorithm:\n",
    "$$\\theta^{\\space(next \\space step)} = \\theta - \\eta \\nabla_{\\theta}MSE(\\theta)$$\n",
    "- Let's look at a quick implementation of this algorithm:"
   ]
  },
  {
   "cell_type": "markdown",
   "metadata": {},
   "source": [
    "- Data Preparation:"
   ]
  },
  {
   "cell_type": "code",
   "execution_count": 17,
   "metadata": {},
   "outputs": [],
   "source": [
    "X = np.linspace(start=0, stop=1, num=100)\n",
    "y = (0.5 * X) + 0.1 + 0.3 * np.random.rand(100)"
   ]
  },
  {
   "cell_type": "code",
   "execution_count": 18,
   "metadata": {},
   "outputs": [
    {
     "data": {
      "image/png": "[encoded data removed]",
      "text/plain": [
       "<Figure size 432x288 with 1 Axes>"
      ]
     },
     "metadata": {
      "needs_background": "light"
     },
     "output_type": "display_data"
    }
   ],
   "source": [
    "plt.scatter(x=X, y=y)\n",
    "plt.show()"
   ]
  },
  {
   "cell_type": "markdown",
   "metadata": {},
   "source": [
    "Next, we append `1`s to X:"
   ]
  },
  {
   "cell_type": "code",
   "execution_count": 19,
   "metadata": {},
   "outputs": [],
   "source": [
    "X = np.c_[np.ones_like(X), X]"
   ]
  },
  {
   "cell_type": "markdown",
   "metadata": {},
   "source": [
    "We then randomly initialize the parameters:"
   ]
  },
  {
   "cell_type": "code",
   "execution_count": 20,
   "metadata": {},
   "outputs": [],
   "source": [
    "theta = np.random.rand(2)"
   ]
  },
  {
   "cell_type": "code",
   "execution_count": 21,
   "metadata": {},
   "outputs": [],
   "source": [
    "def mse(X, y, theta):\n",
    "    \"\"\"Returns the Mean Squared Error.\n",
    "    \n",
    "    # Arguments:\n",
    "        X, np.ndarray: the intput training data with `1`s appended to each row.\n",
    "        y, np.ndarray: the targets of the training rows.\n",
    "        theta, np.ndarray: the parameter vector of the model.\n",
    "    \n",
    "    # Returns\n",
    "        MSE, float: Mean Squared Error between `X*theta` and `y`.\n",
    "    \"\"\"\n",
    "    m = X.shape[0]\n",
    "    X_theta = np.matmul(X, theta)\n",
    "    return 1./m * np.matmul((X_theta - y).T, (X_theta - y))"
   ]
  },
  {
   "cell_type": "code",
   "execution_count": 22,
   "metadata": {},
   "outputs": [],
   "source": [
    "def grad_mse(X, y, theta):\n",
    "    \"\"\"Returns MSE's Gradient Vector.\n",
    "    \n",
    "    # Arguments\n",
    "        X, np.ndarray: the intput training data with `1`s appended to each row.\n",
    "        y, np.ndarray: the targets of the training rows.\n",
    "        theta, np.ndarray: the parameter vector of the model.\n",
    "    \n",
    "    # Results\n",
    "        grad_mse, np.ndarray: the gradient vector of the mean squared error function. \n",
    "    \"\"\"\n",
    "    m = X.shape[0]\n",
    "    X_theta = np.matmul(X, theta)\n",
    "    return 2./m * np.matmul(X.T, X_theta - y)"
   ]
  },
  {
   "cell_type": "markdown",
   "metadata": {},
   "source": [
    "Let's choose a learning rate:"
   ]
  },
  {
   "cell_type": "code",
   "execution_count": 23,
   "metadata": {},
   "outputs": [],
   "source": [
    "lr = 0.01"
   ]
  },
  {
   "cell_type": "markdown",
   "metadata": {},
   "source": [
    "Now let's optimize our model parameters, $\\theta_{0}$ and $\\theta_{1}$:"
   ]
  },
  {
   "cell_type": "code",
   "execution_count": 24,
   "metadata": {},
   "outputs": [],
   "source": [
    "while mse(X, y, theta) > 0.01:\n",
    "    theta = theta - lr * grad_mse(X, y, theta)"
   ]
  },
  {
   "cell_type": "code",
   "execution_count": 25,
   "metadata": {},
   "outputs": [
    {
     "data": {
      "text/plain": [
       "0.009996671852426647"
      ]
     },
     "execution_count": 25,
     "metadata": {},
     "output_type": "execute_result"
    }
   ],
   "source": [
    "mse(X, y, theta)"
   ]
  },
  {
   "cell_type": "markdown",
   "metadata": {},
   "source": [
    "Let's check our parameters:"
   ]
  },
  {
   "cell_type": "code",
   "execution_count": 26,
   "metadata": {},
   "outputs": [
    {
     "data": {
      "text/plain": [
       "array([0.2815015 , 0.49934791])"
      ]
     },
     "execution_count": 26,
     "metadata": {},
     "output_type": "execute_result"
    }
   ],
   "source": [
    "theta"
   ]
  },
  {
   "cell_type": "markdown",
   "metadata": {},
   "source": [
    "Finally, let's check what our model learned:"
   ]
  },
  {
   "cell_type": "code",
   "execution_count": 27,
   "metadata": {},
   "outputs": [
    {
     "data": {
      "image/png": "[encoded data removed]",
      "text/plain": [
       "<Figure size 432x288 with 1 Axes>"
      ]
     },
     "metadata": {
      "needs_background": "light"
     },
     "output_type": "display_data"
    }
   ],
   "source": [
    "plt.scatter(x=X[:,1], y=y)\n",
    "plt.plot([0,1], [theta[0] + theta[1]*0, theta[0] + theta[1]*1], color='red')\n",
    "plt.show()"
   ]
  },
  {
   "cell_type": "markdown",
   "metadata": {},
   "source": [
    "- Batch Gradient Descent worked perfectly.\n",
    "- What if you had used a different learning rate $\\eta$?\n",
    "- The following figure shows the first 10 steps of gradient descent using different learning rates (the dashed line represents the initial one):\n",
    "\n",
    "<div style=\"text-align:center;\"><img style=\"width: 66%;\" src=\"static/imgs/different_lrs.png\"></div>\n",
    "\n",
    "- On the left the learning rate is too low: the algorithm will eventually reach the solution, but it will take a long time.\n",
    "- In the middle, the learning rate looks pretty good: in just a few iterations, it had already converged to a solution.\n",
    "- On the right, the learning rate is too high, the algorithm diverges, jumping all over the place and actually getting away from the solution.\n",
    "- To find a good learning rate, you may want to try grid/random search\n",
    "    - use just a few iterations to get an idea of a good learning rate without spending a lot of resources (compute or time)\n",
    "- You may wonder how to find a good iterations number\n",
    "    - If you set it low, you'll miss on a better trained model and consequently, better results.\n",
    "    - If you set it high, you'll waste resources after your model has already converged.\n",
    "    - A good simple strategy is to **Set a very large number of iterations then interrupt training when you start getting very small gradient values**\n",
    "        - Meaning the parameters are (almost) not changing.\n",
    "- When the cost function is convex and its slope doesn't change abruptly (as in the case of our MSE loss function) Batch Gradient Descent with a fixed learning rate will eventually converge to the optimal solution, but you may have to wait for it to get there. \n",
    "    - It can take $O(\\frac{1}{\\epsilon})$ with $\\epsilon=d(\\hat{\\theta}, \\theta)$ depending on the shape of the cost function\n",
    "    - If you devide the tolerance by 10 to have a more precise solution, then the algorithm may run for 10 times longer."
   ]
  },
  {
   "cell_type": "markdown",
   "metadata": {},
   "source": [
    "### Stochastic Gradient Descent\n",
    "\n",
    "- The whole problem with batch gradient descent is that it uses the whole training set at each step to calculate the gradients & optimize the parameters.\n",
    "    - Which **makes it very slow if the training set is large**.\n",
    "- At the opposite extreme, **Stochastic Gradient Descent picks only 1 point and calculate the gradients and update the parameters based on it**.\n",
    "- Working on 1 data point at a step makes the algorithm really fast.\n",
    "- It also makes it possible to train on very large data sets since at each step only one data point is needed in memory.\n",
    "- On the other hand, because it only relies on 1 data point at a time (picked randomly) the algorithm is not stable and the loss function doesn't decrease gradually, it decrease if we average multiple steps.\n",
    "- Over time, SGD will get the parameters such as $J(\\theta)$ is very close to 0 but it will continue to bounce up and down due to it picking 1 point at a time.\n",
    "\n",
    "<div style=\"text-align:center;\"><img style=\"width: 50%;\" src=\"static/imgs/SGD_Loss.png\"></div>\n",
    "\n",
    "- When the loss curve is irregular, SGD might actually manage to jump out of a local minimum.\n",
    "- So SGD has a better chance to find the global minimum than BSG has because SGD is not as stable in optimizing the parameters of the model.\n",
    "- **Randomness is Good to Espace local minimas but bad because you will never settle on a minima**.\n",
    "    - This can be addressed by **Gradually decreasing the learning rate as the algorithm trains**.\n",
    "        - The steps starts out large which help the algorithm escape local minima.\n",
    "        - Then get smaller & smaller, allowing the algorithm to settle on the global minima.\n",
    "    - This proceess is akin to **simulated annealing**\n",
    "- The function that determines the learning rate at each iteration is called the learning rate schedule.\n",
    "- If the learning rate get reduced too quickly, you may get stuck at a local minimum, and if the learning rate get reduced very slowly it might not have any effect on stabalizing the algorithm over the global minimum and ie algorithm will continue to bounce back and fourth.\n",
    "- Before diving into the implementation, let's present the formulation of the new loss function & its gradient for Stochastic Gradient Descent:\n",
    "    - With SGD, we randomly select 1 point from $X$ at each step and feed it to the model, meaning:\n",
    "\n",
    "$$J(\\theta)=(x^{(i)}\\theta - y^{(i)})^{2} \\setminus x^{(i)} \\in R^{1 \\times n}, \\theta \\in R^{n \\times 1}, y^{(i)} \\in R^{1 \\times 1}$$\n",
    "$$\\nabla_{\\theta}J(\\theta)=2{x^{(i)}}^{T}(x^{(i)}\\theta - y^{(i)})$$\n",
    "\n",
    "- This code implements stochastic gradient descent using a simple learning schedule:"
   ]
  },
  {
   "cell_type": "code",
   "execution_count": 72,
   "metadata": {},
   "outputs": [],
   "source": [
    "def sgd_loss(X_i, y_i, theta):\n",
    "    \"\"\"Returns the Mean Squared Error for Stochastic gradient descent.\n",
    "    \n",
    "    # Arguments:\n",
    "        X_i, np.ndarray shape=(1,n): the intput training data row vector with `1` in the beginning.\n",
    "        y, np.ndarray shape=(1,1): the target of the training row.\n",
    "        theta, np.ndarray shape=(n,1): the parameters vector of the model.\n",
    "    \n",
    "    # Returns\n",
    "        MSE, float: Mean Squared Error between `X*theta` and `y`.\n",
    "    \"\"\"\n",
    "    X_theta = np.matmul(X_i, theta)\n",
    "    return (X_theta - y_i)**2"
   ]
  },
  {
   "cell_type": "code",
   "execution_count": 73,
   "metadata": {},
   "outputs": [],
   "source": [
    "def grad_sgd_loss(X_i, y_i, theta):\n",
    "    \"\"\"Returns Stochastic Gradient Descent's Mean Squared Error Gradient.\n",
    "    \n",
    "    # Arguments\n",
    "        X_i, np.ndarray shape=(1,n): the intput training data row vector with `1` in the beginning.\n",
    "        y, np.ndarray shape=(1,1): the target of the training row.\n",
    "        theta, np.ndarray shape=(n,1): the parameters vector of the model.\n",
    "    \n",
    "    # Results\n",
    "        grad_mse, np.ndarray: the gradient vector of the mean squared error function. \n",
    "    \"\"\"\n",
    "    X_theta = np.matmul(X_i, theta)\n",
    "    return 2. * X_i.T * (X_theta - y_i)"
   ]
  },
  {
   "cell_type": "code",
   "execution_count": 74,
   "metadata": {},
   "outputs": [],
   "source": [
    "def learning_rate_scheduler(lr, perc):\n",
    "    \"\"\"Returns annealed learning rate based on current one & reduction percentage\n",
    "    \n",
    "    # Arguments\n",
    "        lr: float, initial learning rate\n",
    "        perc: float \\in [0,1]: annealing percentage\n",
    "    \n",
    "    # Returns\n",
    "        next_lr: float, next learning rate to use\n",
    "    \"\"\"\n",
    "    return perc * lr"
   ]
  },
  {
   "cell_type": "code",
   "execution_count": 106,
   "metadata": {},
   "outputs": [],
   "source": [
    "theta = np.random.rand(2)"
   ]
  },
  {
   "cell_type": "code",
   "execution_count": 111,
   "metadata": {},
   "outputs": [],
   "source": [
    "lr, steps = 0.1, 100000\n",
    "\n",
    "for _ in range(steps):\n",
    "    random_idx = np.random.randint(low=0, high=X.shape[0])\n",
    "    lr = learning_rate_scheduler(lr, perc=0.99) \n",
    "    theta = theta - lr * grad_sgd_loss(X[random_idx], y[random_idx], theta)"
   ]
  },
  {
   "cell_type": "code",
   "execution_count": 112,
   "metadata": {},
   "outputs": [
    {
     "data": {
      "text/plain": [
       "0.01531321393172693"
      ]
     },
     "execution_count": 112,
     "metadata": {},
     "output_type": "execute_result"
    }
   ],
   "source": [
    "sgd_loss(X[random_idx], y[random_idx], theta)"
   ]
  },
  {
   "cell_type": "markdown",
   "metadata": {},
   "source": [
    "Let's check our parameters:"
   ]
  },
  {
   "cell_type": "code",
   "execution_count": 113,
   "metadata": {},
   "outputs": [
    {
     "data": {
      "text/plain": [
       "array([0.22232828, 0.54714527])"
      ]
     },
     "execution_count": 113,
     "metadata": {},
     "output_type": "execute_result"
    }
   ],
   "source": [
    "theta"
   ]
  },
  {
   "cell_type": "markdown",
   "metadata": {},
   "source": [
    "Finally, let's check what our model learned:"
   ]
  },
  {
   "cell_type": "code",
   "execution_count": 114,
   "metadata": {},
   "outputs": [
    {
     "data": {
      "image/png": "[encoded data removed]",
      "text/plain": [
       "<Figure size 432x288 with 1 Axes>"
      ]
     },
     "metadata": {
      "needs_background": "light"
     },
     "output_type": "display_data"
    }
   ],
   "source": [
    "plt.scatter(x=X[:,1], y=y)\n",
    "plt.plot([0,1], [theta[0] + theta[1]*0, theta[0] + theta[1]*1], color='red')\n",
    "plt.show()"
   ]
  },
  {
   "cell_type": "markdown",
   "metadata": {},
   "source": [
    "- We can see that breaking training based on local loss (between the current random point & its target) is not good\n",
    "    - Because we might have a very good local loss but the global loss is still far from minimized\n",
    "- We didn't support epochs & we're not guaranteeing looping over all training points.\n",
    "- Our learning rate decreaser is primitive.\n",
    "- We're not preserving dimensions as we consider $1 \\times 1$ as a $cte \\in R$. \n",
    "- Let's go over the book's solution:"
   ]
  },
  {
   "cell_type": "code",
   "execution_count": 174,
   "metadata": {},
   "outputs": [],
   "source": [
    "n_epochs = 50\n",
    "t0, t1 = 5, 50\n",
    "m = X.shape[0]"
   ]
  },
  {
   "cell_type": "code",
   "execution_count": 175,
   "metadata": {},
   "outputs": [],
   "source": [
    "def learning_schedule(t):\n",
    "    return t0 / (t + t1)"
   ]
  },
  {
   "cell_type": "code",
   "execution_count": 176,
   "metadata": {},
   "outputs": [],
   "source": [
    "theta = np.random.randn(2, 1)"
   ]
  },
  {
   "cell_type": "code",
   "execution_count": 177,
   "metadata": {},
   "outputs": [],
   "source": [
    "for epoch in range(n_epochs):\n",
    "    for i in range(m):\n",
    "        random_index = np.random.randint(m)\n",
    "        xi = X[random_index:random_index+1]\n",
    "        yi = y[random_index:random_index+1] \n",
    "        gradients = 2 * xi.T.dot(xi.dot(theta) - yi) \n",
    "        eta = learning_schedule(epoch * m + i)\n",
    "        theta = theta - eta * gradients"
   ]
  },
  {
   "cell_type": "code",
   "execution_count": 184,
   "metadata": {},
   "outputs": [
    {
     "data": {
      "text/plain": [
       "array([[0.27424968],\n",
       "       [0.45496302]])"
      ]
     },
     "execution_count": 184,
     "metadata": {},
     "output_type": "execute_result"
    }
   ],
   "source": [
    "theta"
   ]
  },
  {
   "cell_type": "code",
   "execution_count": 178,
   "metadata": {},
   "outputs": [
    {
     "data": {
      "image/png": "[encoded data removed]",
      "text/plain": [
       "<Figure size 432x288 with 1 Axes>"
      ]
     },
     "metadata": {
      "needs_background": "light"
     },
     "output_type": "display_data"
    }
   ],
   "source": [
    "plt.scatter(x=X[:,1], y=y)\n",
    "plt.plot([0,1], [theta[0][0] + theta[1][0]*0, theta[0][0] + theta[1][0]*1], color='red')\n",
    "plt.show()"
   ]
  },
  {
   "cell_type": "markdown",
   "metadata": {},
   "source": [
    "- By convention we iterate by rounds of $m$ iterations, each round is called an **epoch**.\n",
    "- While the Batch Gradient Descent algorithm iterate for 1,000 times to converge, we only iterated for 50 times.\n",
    "- Notice that some rows may be picked several times, and others may not be picked at all.\n",
    "    - If you want to make sure you feed all instances per epoch, in the beginning of each epoch:\n",
    "        - Shuffle (X, y) jointly by index\n",
    "        - Loop over their rows row by row\n",
    "    - However, this method is known to **converge more slowly**\n",
    "- When using SGD, the rows must be independent and identically distributed\n",
    "    - Make sure you randomly shuffle the rows or pick each one at random\n",
    "    - If you don't do this, the algorithm might lean towards trends in the last couple of rows you fed it\n",
    "        - For example, if you sort by label value then feed.\n",
    "    - Stochastic sampling insures convergance towards the global minimum.\n",
    "- We can also do it the scikit-learn way:"
   ]
  },
  {
   "cell_type": "code",
   "execution_count": 179,
   "metadata": {},
   "outputs": [],
   "source": [
    "from sklearn.linear_model import SGDRegressor"
   ]
  },
  {
   "cell_type": "code",
   "execution_count": 180,
   "metadata": {},
   "outputs": [],
   "source": [
    "sgd_reg = SGDRegressor(max_iter=1000, tol=1e-3, penalty=None, eta0=0.1)"
   ]
  },
  {
   "cell_type": "code",
   "execution_count": 181,
   "metadata": {},
   "outputs": [
    {
     "data": {
      "text/plain": [
       "SGDRegressor(alpha=0.0001, average=False, early_stopping=False, epsilon=0.1,\n",
       "             eta0=0.1, fit_intercept=True, l1_ratio=0.15,\n",
       "             learning_rate='invscaling', loss='squared_loss', max_iter=1000,\n",
       "             n_iter_no_change=5, penalty=None, power_t=0.25, random_state=None,\n",
       "             shuffle=True, tol=0.001, validation_fraction=0.1, verbose=0,\n",
       "             warm_start=False)"
      ]
     },
     "execution_count": 181,
     "metadata": {},
     "output_type": "execute_result"
    }
   ],
   "source": [
    "sgd_reg.fit(X=X, y=y)"
   ]
  },
  {
   "cell_type": "code",
   "execution_count": 183,
   "metadata": {},
   "outputs": [
    {
     "data": {
      "text/plain": [
       "array([0.13917125, 0.42272355])"
      ]
     },
     "execution_count": 183,
     "metadata": {},
     "output_type": "execute_result"
    }
   ],
   "source": [
    "sgd_reg.coef_"
   ]
  },
  {
   "cell_type": "code",
   "execution_count": 189,
   "metadata": {},
   "outputs": [
    {
     "data": {
      "image/png": "[encoded data removed]",
      "text/plain": [
       "<Figure size 432x288 with 1 Axes>"
      ]
     },
     "metadata": {
      "needs_background": "light"
     },
     "output_type": "display_data"
    }
   ],
   "source": [
    "plt.scatter(x=X[:,1], y=y)\n",
    "plt.plot([0,1], [sgd_reg.predict(X=[[1, 0]]), sgd_reg.predict(X=[[1, 1]])], color='red')\n",
    "plt.show()"
   ]
  },
  {
   "cell_type": "code",
   "execution_count": null,
   "metadata": {},
   "outputs": [],
   "source": []
  },
  {
   "cell_type": "code",
   "execution_count": null,
   "metadata": {},
   "outputs": [],
   "source": []
  },
  {
   "cell_type": "code",
   "execution_count": null,
   "metadata": {},
   "outputs": [],
   "source": []
  },
  {
   "cell_type": "code",
   "execution_count": null,
   "metadata": {},
   "outputs": [],
   "source": []
  }
 ],
 "metadata": {
  "kernelspec": {
   "display_name": "Python 3",
   "language": "python",
   "name": "python3"
  },
  "language_info": {
   "codemirror_mode": {
    "name": "ipython",
    "version": 3
   },
   "file_extension": ".py",
   "mimetype": "text/x-python",
   "name": "python",
   "nbconvert_exporter": "python",
   "pygments_lexer": "ipython3",
   "version": "3.7.5"
  }
 },
 "nbformat": 4,
 "nbformat_minor": 4
}
