{
 "cells": [
  {
   "cell_type": "markdown",
   "metadata": {},
   "source": [
    "# Chapter 4. Training Models\n",
    "\n",
    "- In many situations, you need to understand the implementation of many algorithms.\n",
    "- But understanding the underlying logic of machine learning algorithms will help you to:\n",
    "    - Pick the right one for the task\n",
    "    - Pick a good initial set of hyper-parameters\n",
    "    - Pick a good training algorithm\n",
    "    - ...\n",
    "- lastly, most of the topics discussed in this chapter will be essential for understanding neural networks.\n",
    "- In this chapter, we will start by lookin at linear regression training from two different angles:\n",
    "    - Using a direct \"closed-form\" analytical method to get the optimal parameters for the linear model\n",
    "    - Using an interative optimization method called gradient descent.\n",
    "        - It gradually tweaks the model parameters until it converges to the same set of parameters found by method 1.\n",
    "        - we will take a look at multiple types of gradient descent: stochastic GD, batch GD, Mini-batch GD.\n",
    "- Next we will look at polynomial regression, or models that can fit non-linear datasets.\n",
    "- Then we will look at several regularization techniques that will help up reduce the overfitting typically found in Polynomial models.\n",
    "- Finally, we will look at two popular models used for classification tasks: Logistic regression & softmax regression."
   ]
  },
  {
   "cell_type": "markdown",
   "metadata": {},
   "source": [
    "## Linear Regression\n",
    "\n",
    "- In chapter I, we looked at a simple model for *Life Satisfaction*:\n",
    "$$life\\_satisfaction = \\theta_{0} + \\theta_{1} \\times GDP\\_per\\_capita$$\n",
    "- This model is just a linear function of `GDP_per_Capita` with $\\theta_{0}$ and $\\theta_{1}$ as parameters.\n",
    "- A linear model makes a prediction by simply computing the weighted sum of the input features + a constant called a bias term.\n",
    "- More generally:\n",
    "$$\\hat{y} = \\theta_{0} + \\theta_{1}x_{1} + \\theta_{2}x_{2} + \\dots + \\theta_{n}x_{n}$$\n",
    "- This can be written much more consicely using its vectorized form:\n",
    "$$\n",
    "\\hat{y}=h_{\\theta}(x)=\\theta \\cdot x \\space | \\space\n",
    "\\theta=\\begin{bmatrix} \\theta_{0}  \\\\ \\theta_{1}  \\\\ \\vdots  \\\\ \\theta_{n} \\end{bmatrix},\n",
    "x=\\begin{bmatrix} 1 \\\\ x_{1} \\\\ \\vdots \\\\ x_{n} \\end{bmatrix}\n",
    "$$\n",
    "- *Note:* $\\cdot$ in $\\theta \\cdot x$ represent the dot product & not vector multiplication.\n",
    "- $h_{\\theta}(x)$ is the hypothesis function using parameters $\\theta$.\n",
    "- Note\n",
    "    - In ML, vectors are often represented as column vectors.\n",
    "    - Because $\\theta$ and $x$ are both column vectors, we can write the prediction as follows:\n",
    "$$\\hat{y} = \\theta^{T} x$$\n",
    "        - Now, $\\hat{y}$ is a single-cell matrix resulting from matrix multiplication.\n",
    "    - In this book, we will use this notation to avoid switching between dot products and matrix multiplications.\n",
    "- Training a model means adjusting its parameters so it best fits the data.\n",
    "- For us to succeed, we first need to describe what do we mean by \"best fitting the data\". \n",
    "- We pick the mean sqaured error ($MSE$) as measure of the model performance:\n",
    "$$MSE(X,h_{\\theta}) = \\frac{1}{m} \\sum_{i=1}^{m} (\\theta^{T}x^{(i)} - y^{(i)})^2$$\n",
    "- Where $X$ is the training data set represented as $X=\\{(x_{1},y_{1}), (x_{2},y_{2}), \\dots, (x_{m},y_{m})\\}$"
   ]
  },
  {
   "cell_type": "markdown",
   "metadata": {},
   "source": [
    "### The Normal Equation\n",
    "- To find $\\theta$ that minimizes the cost/loss function $MSE(\\theta)$, there is a closed form solution.\n",
    "- In other words, a mathematical equation that gives the result directly, and it's called the normal equation.\n",
    "$$\\hat{\\theta}=(X^{T}X)^{-1}X^{T}y$$\n",
    "- $\\hat{\\theta}$ is the value of $\\theta$ that minimizes the cost function $MSE(\\theta)$.\n",
    "- Let's generate some linear data to test this equation:"
   ]
  },
  {
   "cell_type": "code",
   "execution_count": 35,
   "metadata": {},
   "outputs": [],
   "source": [
    "import numpy as np\n",
    "import matplotlib.pyplot as plt\n",
    "plt.style.use('default')"
   ]
  },
  {
   "cell_type": "code",
   "execution_count": 36,
   "metadata": {},
   "outputs": [],
   "source": [
    "X = 2 * np.random.rand(100, 1)\n",
    "y = 4 + 3 * X + np.random.randn(100, 1)"
   ]
  },
  {
   "cell_type": "code",
   "execution_count": 37,
   "metadata": {},
   "outputs": [
    {
     "data": {
      "image/png": "[encoded data removed]",
      "text/plain": [
       "<Figure size 640x480 with 1 Axes>"
      ]
     },
     "metadata": {},
     "output_type": "display_data"
    }
   ],
   "source": [
    "plt.scatter(x=X, y=y)\n",
    "plt.xlabel('X')\n",
    "plt.ylabel('y')\n",
    "plt.show()"
   ]
  },
  {
   "cell_type": "markdown",
   "metadata": {},
   "source": [
    "- Now let's compute $\\hat{\\theta}$ using the normal equation:"
   ]
  },
  {
   "cell_type": "code",
   "execution_count": 38,
   "metadata": {},
   "outputs": [],
   "source": [
    "X_b = np.c_[np.ones_like(X), X]"
   ]
  },
  {
   "cell_type": "code",
   "execution_count": 39,
   "metadata": {},
   "outputs": [
    {
     "data": {
      "text/plain": [
       "array([[4.1913546 ],\n",
       "       [2.88299415]])"
      ]
     },
     "execution_count": 39,
     "metadata": {},
     "output_type": "execute_result"
    }
   ],
   "source": [
    "theta_best = np.linalg.inv(X_b.T.dot(X_b)).dot(X_b.T).dot(y)\n",
    "theta_best"
   ]
  },
  {
   "cell_type": "markdown",
   "metadata": {},
   "source": [
    "- The parameters that we used to generate the data (with some noise) are $\\theta_{0}=4$ and $\\theta_{1}=3$.\n",
    "- The noise was responsible for not making it possible to recover the initial parameters $\\theta_{0}$ & $\\theta_{1}$.\n",
    "- Now we can make predictions using our optimal parameters:"
   ]
  },
  {
   "cell_type": "code",
   "execution_count": 50,
   "metadata": {},
   "outputs": [
    {
     "data": {
      "text/plain": [
       "(2, 2)"
      ]
     },
     "execution_count": 50,
     "metadata": {},
     "output_type": "execute_result"
    }
   ],
   "source": [
    "X_ = np.array([[0], [2]])\n",
    "X_ = np.c_[np.ones_like(X_), X_].T\n",
    "X_.shape"
   ]
  },
  {
   "cell_type": "code",
   "execution_count": 55,
   "metadata": {},
   "outputs": [],
   "source": [
    "y_hat = np.matmul(theta_best.T, X_)"
   ]
  },
  {
   "cell_type": "code",
   "execution_count": 63,
   "metadata": {},
   "outputs": [
    {
     "data": {
      "image/png": "[encoded data removed]",
      "text/plain": [
       "<Figure size 640x480 with 1 Axes>"
      ]
     },
     "metadata": {},
     "output_type": "display_data"
    }
   ],
   "source": [
    "plt.scatter(x=X, y=y)\n",
    "plt.plot([0,2], y_hat.flatten(), color='red', label='Predictions')\n",
    "plt.xlabel('X')\n",
    "plt.ylabel('y')\n",
    "plt.legend()\n",
    "plt.show()"
   ]
  },
  {
   "cell_type": "markdown",
   "metadata": {},
   "source": [
    "- Performing Linear Regression using scikit-learn is also simple:"
   ]
  },
  {
   "cell_type": "code",
   "execution_count": 64,
   "metadata": {},
   "outputs": [],
   "source": [
    "from sklearn.linear_model import LinearRegression"
   ]
  },
  {
   "cell_type": "code",
   "execution_count": 65,
   "metadata": {},
   "outputs": [],
   "source": [
    "lin_reg = LinearRegression(n_jobs=-1)"
   ]
  },
  {
   "cell_type": "code",
   "execution_count": 66,
   "metadata": {},
   "outputs": [
    {
     "data": {
      "text/plain": [
       "LinearRegression(copy_X=True, fit_intercept=True, n_jobs=-1, normalize=False)"
      ]
     },
     "execution_count": 66,
     "metadata": {},
     "output_type": "execute_result"
    }
   ],
   "source": [
    "lin_reg.fit(X, y)"
   ]
  },
  {
   "cell_type": "code",
   "execution_count": 67,
   "metadata": {},
   "outputs": [
    {
     "data": {
      "text/plain": [
       "(array([4.1913546]), array([[2.88299415]]))"
      ]
     },
     "execution_count": 67,
     "metadata": {},
     "output_type": "execute_result"
    }
   ],
   "source": [
    "lin_reg.intercept_, lin_reg.coef_"
   ]
  },
  {
   "cell_type": "code",
   "execution_count": 70,
   "metadata": {},
   "outputs": [
    {
     "data": {
      "text/plain": [
       "array([[4.1913546 ],\n",
       "       [9.95734291]])"
      ]
     },
     "execution_count": 70,
     "metadata": {},
     "output_type": "execute_result"
    }
   ],
   "source": [
    "lin_reg.predict(np.array([[0],[2]]))"
   ]
  },
  {
   "cell_type": "markdown",
   "metadata": {},
   "source": [
    "- The `LinearRegression` class is based on `scipy.linalg.lstsq` function which you could call directly:"
   ]
  },
  {
   "cell_type": "code",
   "execution_count": 71,
   "metadata": {},
   "outputs": [],
   "source": [
    "theta_best_svd, residuals, rank, s = np.linalg.lstsq(X_b, y, rcond=1e-6)"
   ]
  },
  {
   "cell_type": "code",
   "execution_count": 72,
   "metadata": {},
   "outputs": [
    {
     "data": {
      "text/plain": [
       "array([[4.1913546 ],\n",
       "       [2.88299415]])"
      ]
     },
     "execution_count": 72,
     "metadata": {},
     "output_type": "execute_result"
    }
   ],
   "source": [
    "theta_best_svd"
   ]
  },
  {
   "cell_type": "markdown",
   "metadata": {},
   "source": [
    "- The function computes $\\hat{\\theta}=X^{+}y$ where $X^{+}$ is the Moore-Penrose inverse, $X^{+}=(X^{T}X)^{-1}X^{T}$.\n",
    "    - You can compute it directly:"
   ]
  },
  {
   "cell_type": "code",
   "execution_count": 74,
   "metadata": {},
   "outputs": [
    {
     "data": {
      "text/plain": [
       "array([[4.1913546 ],\n",
       "       [2.88299415]])"
      ]
     },
     "execution_count": 74,
     "metadata": {},
     "output_type": "execute_result"
    }
   ],
   "source": [
    "np.linalg.pinv(X_b).dot(y)"
   ]
  },
  {
   "cell_type": "markdown",
   "metadata": {},
   "source": [
    "- The pseudoinverse itself is computed using a **standard matrix vectorization** technique called **Singular Value Decomposition** (SVD).\n",
    "    - SVD can decompose the training set $X$ into the matrix multiplication of 3 matrices: $U \\space \\Sigma \\space V^{T}$.\n",
    "    - As a result, we have $X^{+}=V \\Sigma^{+} U^{T}$\n",
    "    - To compute the matrix $\\Sigma^{+}$, the algorithm takes $\\Sigma$ and:\n",
    "        - Sets to zero all values smaller than an $\\epsilon$\n",
    "        - Replaces all the non-zero values with their inverse\n",
    "        - Finally transposes the resulting matrix.\n",
    "- This approach is more efficient than directly computing the normal equation\n",
    "    - It handles edge cases nicely.\n",
    "- The nomral equation may not work if $X^{T}X$ is not invertible but the pseudoinverse is always defined."
   ]
  },
  {
   "cell_type": "markdown",
   "metadata": {},
   "source": [
    "### Computational Complexity\n",
    "\n",
    "- The normal equation computes the inverse of $X^{T}X$, which is an $(n+1) \\times (n+1)$ matrix (where n is the number of features).\n",
    "- The computation complexity of inverting such a matrix is typically about $O(n^{2.4})$ to $O(n^{3})$, depending on the implementation.\n",
    "- In other words, **if you double the number of features, you will increase the computation time by x5.3 to x8.**\n",
    "- Notes\n",
    "    - Both the normal equation & SVD approaches get very slow with a large number of features (100,000).\n",
    "    - On a positive side, both are linear when it comes to the number of instances (or observations) you have in $X$.\n",
    "- Once you trained your model using the Normal equation or SVD, predictions are exported really fast.\n",
    "     - Linear complexity on both instances and features.\n",
    "- Now we will look at a completely different way of finding the optimal parameters $\\theta$\n",
    "    - **It is suitable when you have too many features or instances you can't fit in memory**:"
   ]
  },
  {
   "cell_type": "markdown",
   "metadata": {},
   "source": [
    "## Gradient Descent\n",
    "\n",
    "- Gradient Descent is a generic optimization algorithm capable of finding solutions to a wide veriety of problems.\n",
    "- The general idea of gradient descent is to tweak a model's parameters iteratively until we converge to an optimal set of parameters $\\hat{\\theta}$.\n",
    "- Suppose you are lost in the mountain with dense fog, you can't see anything, you only can feel the ground below your feet. and you want to go home.\n",
    "    - A good strategy is to move in the direction of the steepest slope.\n",
    "    - This is exactly what gradient descent does.\n",
    "- GD measures the local gradient of the error function with regards to the parameter function $\\theta$ and goes in the direction of descending gradient.\n",
    "- **Once the gradient is Zero, you have reached a minimum**.\n",
    "- Practically, you start by initializing $\\theta$ with random values (this is called **random initialization**).\n",
    "- Then you improve it gradually, taking one baby step at a time.\n",
    "    - Each step attempting to decrease the cost function, until you converge to a minimum:\n",
    "    \n",
    "<div style=\"text-align:center;\"><img style=\"width: 50%;\" src=\"static/imgs/GD.png\"></div>\n",
    "\n",
    "- An important parameter in gradient descent is the size of the step, determined by the *learning rate* hyper-parameter.\n",
    "    - If the learning rate is too small, the algorithm will take a long time to convert to a minimum.\n",
    "    - If the learning rate is too big, the algorithm my jump infinately between intervals or even diverge.\n",
    "- Finally, not all cost functions look like nice, regular bowls.\n",
    "    - there may be holes/ridges/plateaus and all sorts of irregular terrains.\n",
    "- The curvatures of most cost functions is challenging.\n",
    "- As a result, the initialization of your parameters play an important role, depending on where did you start, you might end up in a place or another:\n",
    "\n",
    "<div style=\"text-align:center;\"><img style=\"width: 50%;\" src=\"static/imgs/Loss_curvature.png\"></div>\n",
    "\n",
    "- Fortunately, $MSE$ for Linear regression is a convex function, meaning, It's garanteed that the found minimum is th global minimum of the function.\n",
    "    - No local minima, just one **global minimum**\n",
    "- It's also a continuous function with a slope that never changes ubruptly (Lipschitz continuious).\n",
    "- The Cost function has a shape of a bowl\n",
    "    - But it can be an elongated bowl without feature scaling (because the dynamic range of each feature's parameter will be different):\n",
    "\n",
    "<div style=\"text-align:center;\"><img style=\"width: 50%;\" src=\"static/imgs/scaling_effect.png\"></div>\n",
    "\n",
    "- By not doing feature scaling and by enforcing a constant learning rate for both feature parameters, the algorithm will take longer to reach the global minimum.\n",
    "- Warning: When using gradient descent, make sure that all features are scaled.\n",
    "- Briefly, when we are training the model, we are effectively **searching** for a parameter set that minimizes the cost function.\n",
    "    - **It's a search in the model's parameter space**\n",
    "        - The more parameters the model has, the more dimensions the space has, the harder for us to find the optimal set of parameters."
   ]
  },
  {
   "cell_type": "markdown",
   "metadata": {},
   "source": [
    "### Batch Gradient Descent\n",
    "\n",
    "- To implement Gradient Descent, you need to compute the gradient of the cost function with regards to each model parameter $\\theta_{j}$.\n",
    "    - This is called a partial derivative.\n",
    "- Let's compute the partial derivative of our previously defined cost function $MSE$:\n",
    "\n",
    "$$\\frac{\\partial{J}}{\\partial{\\theta_{j}}}(\\theta)=\\frac{2}{m}\\sum_{i=1}^{m}(\\theta^{T}x^{(i)}-y^{(i)})x_{j}^{(i)}$$\n",
    "\n",
    "- instead of computing the partial derivatives individually, we can give an expression for all of them: ... "
   ]
  },
  {
   "cell_type": "code",
   "execution_count": null,
   "metadata": {},
   "outputs": [],
   "source": []
  },
  {
   "cell_type": "code",
   "execution_count": null,
   "metadata": {},
   "outputs": [],
   "source": []
  },
  {
   "cell_type": "code",
   "execution_count": null,
   "metadata": {},
   "outputs": [],
   "source": []
  },
  {
   "cell_type": "code",
   "execution_count": null,
   "metadata": {},
   "outputs": [],
   "source": []
  },
  {
   "cell_type": "code",
   "execution_count": null,
   "metadata": {},
   "outputs": [],
   "source": []
  },
  {
   "cell_type": "code",
   "execution_count": null,
   "metadata": {},
   "outputs": [],
   "source": []
  }
 ],
 "metadata": {
  "kernelspec": {
   "display_name": "Python 3",
   "language": "python",
   "name": "python3"
  },
  "language_info": {
   "codemirror_mode": {
    "name": "ipython",
    "version": 3
   },
   "file_extension": ".py",
   "mimetype": "text/x-python",
   "name": "python",
   "nbconvert_exporter": "python",
   "pygments_lexer": "ipython3",
   "version": "3.7.3"
  }
 },
 "nbformat": 4,
 "nbformat_minor": 4
}
