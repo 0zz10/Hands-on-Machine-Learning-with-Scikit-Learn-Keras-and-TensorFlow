{
 "cells": [
  {
   "cell_type": "markdown",
   "metadata": {},
   "source": [
    "# The Machine Learning Landscape"
   ]
  },
  {
   "cell_type": "markdown",
   "metadata": {},
   "source": [
    "- The first ML application that really became maintream and improved the lives of 100s of millions of people took over in the 1990s, **The Spam Filter**.\n",
    "- We will take a look at the map and learn about the most notable regions of ML\n",
    "    - Supervised versus Unsupervised Learning\n",
    "    - Online versus batch learning\n",
    "    - Instance-based versus model-based learning"
   ]
  },
  {
   "cell_type": "markdown",
   "metadata": {},
   "source": [
    "## What is Machine Learning?\n",
    "- Machine Learning is the science (and art) of programming computers so that they can learn from data.\n",
    "- Machine Learning is the field of study that gives computers the ability to learn without being explicitly programmed. — Arthur Samuel (1959)\n",
    "- A computer program is said to learn from experience $E$ with respect to some task $T$ and some performance measure $P$, if its performance on $T$, as measured by $P$, improves with experience $E$. — Tom Mitchell (1997)."
   ]
  },
  {
   "cell_type": "markdown",
   "metadata": {},
   "source": [
    "## Why use Machine Learning?\n",
    "1. Make rules\n",
    "2. Write Algorithm\n",
    "3. If Algorithm performs well $\\to$ deploy. If not, go to (1)."
   ]
  },
  {
   "cell_type": "markdown",
   "metadata": {},
   "source": [
    "- If the problem is complex, you'll likely endup with a long list of rules that are hard to maintain to scale to other similar problems.\n",
    "- A machine learning approach would be much shorter, easier to maintain, and in many cases, more accurate.\n",
    "- Machine Learning can help humans learn.\n",
    "    - You can train an algorithm on a large dataset, then inspect the algorithm for `feature importance` to gain a better understanding of the relation between the data & the problem.\n",
    "    - This is called data mining."
   ]
  },
  {
   "cell_type": "markdown",
   "metadata": {},
   "source": [
    "## Examples of Applications\n",
    "\n",
    "- Image Classification: typically performed using convolutional neural networks\n",
    "- Semantic segmentation: when we want to classify each pixel in an image, example is brain tumor detection (will give us shape and location)\n",
    "- Natural Language Processing: & More specifically, text classification, which can be performed using RNNs, CNNs, or Transformers.\n",
    "- NLP: Automatic Text Summarization\n",
    "- Chatbot: Involves many NLP tasks such as Natural Language Understanding (NLU) and Question-Answering.\n",
    "- Forecasting your company's revenue next year: a regression task that can be tackled using multiple algorithms such as\n",
    "    - Linear Regression\n",
    "    - Polynomial Regression\n",
    "    - SVM\n",
    "    - Random Forest\n",
    "    - Artificial Neural Networks\n",
    "    - If sequences of past performance indicators are involved, we can use RNNs, CNNs or Transformers.\n",
    "- Making your app react to voice commands: This is speech recognition, can be tackled by recognizing the incoming audio signals using RNNs, CNNs or Transformers.\n",
    "- Detecting credit card fraud: this is anomaly detection.\n",
    "- Segmenting clients based on their purchases so you can design targeted more effective marketing campaigns, a Clustering problem\n",
    "- Representing a complex, high-dimensional dataset in a diagram: this is data visualization, typically using dimensionality reduction algorithms such as PCA.\n",
    "- Recommending a product based on the client's purchases history: this is a recommender system, where you can feed in the sequence of purchases to an artificial neural network to predict the next purchase.\n",
    "- Building an intelligent bot for a game: this is usually solved using reinforcement learning"
   ]
  },
  {
   "cell_type": "markdown",
   "metadata": {},
   "source": [
    "## Types of Machine Learning Systems\n",
    "\n",
    "- Supervised/Unsupervised Learning\n",
    "    - Machine learning algorithms can be classified according to the amount of supervision they get during training\n",
    "    - They are 4 major categories\n",
    "        - Supervised Learning\n",
    "            - The training set you feed into the supervised learning algorithm contains the targets/labels/desired predictions.\n",
    "            - Most supervised learning tasks fall under two umbrellas: Classification/Regression\n",
    "            - Some regression-based models are used for classification as well, such as `Logistic Regression` which outputs a probability $\\in [0,1]$\n",
    "            - Here are some of the most important supervised learning algorithms\n",
    "                - K-nearest Neighbors\n",
    "                - Linear Regression\n",
    "                - Logistic Regression\n",
    "                - Decision Trees and Random Forests\n",
    "                - Artificial Neural Networks\n",
    "                - Naive Bayes\n",
    "        - Semi-supervised Learning\n",
    "        - Reinforcement Learning\n",
    "        - Unsupervised Learning\n",
    "            - The data is unlabeled, the system is trying to learn without a teacher.\n",
    "            - Here are some unsupervised learning algorithms\n",
    "                - Clustering\n",
    "                    - K-means\n",
    "                    - DBSCAN\n",
    "                    - Hirerchical Cluster Analysis\n",
    "                - Anomaly Detection\n",
    "                    - one-class SVM\n",
    "                    - Isolation Forest\n",
    "                - Visualization & Dimensionality Reduction: the goal is to compress/simplify the data without losing too much information (1 way to do it is to merge highly correlated features)\n",
    "                    - Principal Component Analysis: PCA\n",
    "                    - t-distributed stochastic Neighbor Embedding: T-SNE\n",
    "                    - Autoencoders\n",
    "                    - Kernel PCA\n",
    "                    - Local Linear Embedding (LLE)\n",
    "                - Association rule learning: find interesting relations between attributes\n",
    "                    - Apriori\n",
    "                    - Eclat\n",
    "        - Semi-supervised Learning\n",
    "            - You have partially-labeled data\n",
    "            - The goal is to not classify the unlebeled ones but to use them around the labeled points as helpers to solve the task\n",
    "            - Most semi-supervised learning algorithms are a combination of unsupervised and supervised learning algorithms\n",
    "        - Reinforcement Learning\n",
    "            - RL is a very different beast.\n",
    "            - An agent observes the environment, selects an action, gets a reward, and updates its policy.\n",
    "- Batch & Online Learning\n",
    "    - Another criterion to classify a machine learning algorithm is whether it learns from an incoming stream of data or not.\n",
    "    - Batch Learning\n",
    "        - In batch learning, the model is incapable of incrementally learning, It first learns from all of the available data offline, and then get deployed to produce predictions without feeding it any new data points.\n",
    "        - Another name of batch learning is Offline Learning.\n",
    "    - Online Learning\n",
    "        - In online learning, you train data incrementally by continuously feeding it data instances as they come.\n",
    "            - Either individually or in small groups of instances called *mini-batches*.\n",
    "        - Each learning step is fast and cheap, so the system can learn as data comes, on the fly.\n",
    "        - Online learning is great for system that receive data in a continuous flow.\n",
    "        - Think about Online learning as incremental learning.\n",
    "        - One important aspect of online learning is how fast the learning algorithm should adapt to new data points\n",
    "            - With a big learning rate — the model tends to forget past data and lean heavily towards new data points.\n",
    "            - With a small learning rate — the model tends to slightly adapt to new data points but keeps its knowledge on old data points mostly intact.\n",
    "        - A big challenge with online learning algorithms is that they can be damaged with bad incoming data points and clients will notice that on the fly\n",
    "            - To mitigate this, you can:\n",
    "                - Closely monitor the system through performance metrics, turn off online learning or revert back to a previous model state.\n",
    "                - Clean the data before feeding it to the model by scanning it for anomaly/outlier detection\n",
    "- Instance-based versus Model-based Learning\n",
    "    - One other way to categorize machine learning algorithms is how they generalize\n",
    "    - There are two approaches to generalization: instance-based approaches and model-based approaches.\n",
    "    - Instance-based Learning\n",
    "        - Similarity-based comparison, a new data point would be classified based on its similarity to the target group in the training set, this would require a measure of similarity.\n",
    "    - Model-based Learning\n",
    "        - Another way to make predictions is to build a model for each class of data points and then use the model to classify a new data point (from the validation/test/production environment).\n",
    "        - What follows is an example of model-based learning using linear regression:"
   ]
  },
  {
   "cell_type": "code",
   "execution_count": 41,
   "metadata": {},
   "outputs": [],
   "source": [
    "import numpy as np\n",
    "import pandas as pd\n",
    "import matplotlib.pyplot as plt\n",
    "import seaborn as sns\n",
    "import sklearn.linear_model"
   ]
  },
  {
   "cell_type": "code",
   "execution_count": 42,
   "metadata": {},
   "outputs": [],
   "source": [
    "# let's test loading the data\n",
    "oecd_bli = pd.read_csv('data/oecd.csv', thousands=',')[['Country', 'Indicator', 'Measure', 'Inequality', 'Unit', 'PowerCode', 'Value']]\n",
    "gdp_per_capita = pd.read_csv('data/gdp_per_capita.csv', sep='\\t', encoding='latin1', thousands=',', na_values='n/a')"
   ]
  },
  {
   "cell_type": "code",
   "execution_count": 43,
   "metadata": {},
   "outputs": [],
   "source": [
    "# Get countries + Life satisfaction\n",
    "oecd_bli = oecd_bli[['Country', 'Value']][oecd_bli['Indicator'] == 'Life satisfaction']\n",
    "oecd_bli = oecd_bli.rename(columns={'Value': 'Life satisfaction'})"
   ]
  },
  {
   "cell_type": "code",
   "execution_count": 52,
   "metadata": {},
   "outputs": [
    {
     "data": {
      "text/html": [
       "<div>\n",
       "<style scoped>\n",
       "    .dataframe tbody tr th:only-of-type {\n",
       "        vertical-align: middle;\n",
       "    }\n",
       "\n",
       "    .dataframe tbody tr th {\n",
       "        vertical-align: top;\n",
       "    }\n",
       "\n",
       "    .dataframe thead th {\n",
       "        text-align: right;\n",
       "    }\n",
       "</style>\n",
       "<table border=\"1\" class=\"dataframe\">\n",
       "  <thead>\n",
       "    <tr style=\"text-align: right;\">\n",
       "      <th></th>\n",
       "      <th>Country</th>\n",
       "      <th>Life satisfaction</th>\n",
       "    </tr>\n",
       "  </thead>\n",
       "  <tbody>\n",
       "    <tr>\n",
       "      <td>1812</td>\n",
       "      <td>Australia</td>\n",
       "      <td>7.3</td>\n",
       "    </tr>\n",
       "    <tr>\n",
       "      <td>1813</td>\n",
       "      <td>Austria</td>\n",
       "      <td>7.1</td>\n",
       "    </tr>\n",
       "    <tr>\n",
       "      <td>1814</td>\n",
       "      <td>Belgium</td>\n",
       "      <td>6.9</td>\n",
       "    </tr>\n",
       "    <tr>\n",
       "      <td>1815</td>\n",
       "      <td>Canada</td>\n",
       "      <td>7.4</td>\n",
       "    </tr>\n",
       "    <tr>\n",
       "      <td>1816</td>\n",
       "      <td>Czech Republic</td>\n",
       "      <td>6.7</td>\n",
       "    </tr>\n",
       "    <tr>\n",
       "      <td>...</td>\n",
       "      <td>...</td>\n",
       "      <td>...</td>\n",
       "    </tr>\n",
       "    <tr>\n",
       "      <td>2351</td>\n",
       "      <td>Lithuania</td>\n",
       "      <td>5.9</td>\n",
       "    </tr>\n",
       "    <tr>\n",
       "      <td>2352</td>\n",
       "      <td>Colombia</td>\n",
       "      <td>6.3</td>\n",
       "    </tr>\n",
       "    <tr>\n",
       "      <td>2353</td>\n",
       "      <td>Lithuania</td>\n",
       "      <td>6.0</td>\n",
       "    </tr>\n",
       "    <tr>\n",
       "      <td>2354</td>\n",
       "      <td>Lithuania</td>\n",
       "      <td>6.5</td>\n",
       "    </tr>\n",
       "    <tr>\n",
       "      <td>2355</td>\n",
       "      <td>Lithuania</td>\n",
       "      <td>5.6</td>\n",
       "    </tr>\n",
       "  </tbody>\n",
       "</table>\n",
       "<p>168 rows × 2 columns</p>\n",
       "</div>"
      ],
      "text/plain": [
       "             Country  Life satisfaction\n",
       "1812       Australia                7.3\n",
       "1813         Austria                7.1\n",
       "1814         Belgium                6.9\n",
       "1815          Canada                7.4\n",
       "1816  Czech Republic                6.7\n",
       "...              ...                ...\n",
       "2351       Lithuania                5.9\n",
       "2352        Colombia                6.3\n",
       "2353       Lithuania                6.0\n",
       "2354       Lithuania                6.5\n",
       "2355       Lithuania                5.6\n",
       "\n",
       "[168 rows x 2 columns]"
      ]
     },
     "execution_count": 52,
     "metadata": {},
     "output_type": "execute_result"
    }
   ],
   "source": [
    "oecd_bli"
   ]
  },
  {
   "cell_type": "code",
   "execution_count": null,
   "metadata": {},
   "outputs": [],
   "source": []
  },
  {
   "cell_type": "code",
   "execution_count": null,
   "metadata": {},
   "outputs": [],
   "source": []
  }
 ],
 "metadata": {
  "kernelspec": {
   "display_name": "Python 3",
   "language": "python",
   "name": "python3"
  },
  "language_info": {
   "codemirror_mode": {
    "name": "ipython",
    "version": 3
   },
   "file_extension": ".py",
   "mimetype": "text/x-python",
   "name": "python",
   "nbconvert_exporter": "python",
   "pygments_lexer": "ipython3",
   "version": "3.7.3"
  }
 },
 "nbformat": 4,
 "nbformat_minor": 4
}
