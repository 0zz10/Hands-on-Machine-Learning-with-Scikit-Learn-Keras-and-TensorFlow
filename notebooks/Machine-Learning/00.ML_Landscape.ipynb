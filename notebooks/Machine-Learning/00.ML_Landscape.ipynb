{
 "cells": [
  {
   "cell_type": "markdown",
   "metadata": {},
   "source": [
    "# The Machine Learning Landscape"
   ]
  },
  {
   "cell_type": "markdown",
   "metadata": {},
   "source": [
    "- The first ML application that really became maintream and improved the lives of 100s of millions of people took over in the 1990s, **The Spam Filter**.\n",
    "- We will take a look at the map and learn about the most notable regions of ML\n",
    "    - Supervised versus Unsupervised Learning\n",
    "    - Online versus batch learning\n",
    "    - Instance-based versus model-based learning"
   ]
  },
  {
   "cell_type": "markdown",
   "metadata": {},
   "source": [
    "## What is Machine Learning?\n",
    "- Machine Learning is the science (and art) of programming computers so that they can learn from data.\n",
    "- Machine Learning is the field of study that gives computers the ability to learn without being explicitly programmed. — Arthur Samuel (1959)\n",
    "- A computer program is said to learn from experience $E$ with respect to some task $T$ and some performance measure $P$, if its performance on $T$, as measured by $P$, improves with experience $E$. — Tom Mitchell (1997)."
   ]
  },
  {
   "cell_type": "markdown",
   "metadata": {},
   "source": [
    "## Why use Machine Learning?\n",
    "1. Make rules\n",
    "2. Write Algorithm\n",
    "3. If Algorithm performs well $\\to$ deploy. If not, go to (1)."
   ]
  },
  {
   "cell_type": "markdown",
   "metadata": {},
   "source": [
    "- If the problem is complex, you'll likely endup with a long list of rules that are hard to maintain to scale to other similar problems.\n",
    "- A machine learning approach would be much shorter, easier to maintain, and in many cases, more accurate.\n",
    "- Machine Learning can help humans learn.\n",
    "    - You can train an algorithm on a large dataset, then inspect the algorithm for `feature importance` to gain a better understanding of the relation between the data & the problem.\n",
    "    - This is called data mining."
   ]
  },
  {
   "cell_type": "markdown",
   "metadata": {},
   "source": [
    "## Examples of Applications\n",
    "\n",
    "- Image Classification: typically performed using convolutional neural networks\n",
    "- Semantic segmentation: when we want to classify each pixel in an image, example is brain tumor detection (will give us shape and location)\n",
    "- Natural Language Processing: & More specifically, text classification, which can be performed using RNNs, CNNs, or Transformers.\n",
    "- NLP: Automatic Text Summarization\n",
    "- Chatbot: Involves many NLP tasks such as Natural Language Understanding (NLU) and Question-Answering.\n",
    "- Forecasting your company's revenue next year: a regression task that can be tackled using multiple algorithms such as\n",
    "    - Linear Regression\n",
    "    - Polynomial Regression\n",
    "    - SVM\n",
    "    - Random Forest\n",
    "    - Artificial Neural Networks\n",
    "    - If sequences of past performance indicators are involved, we can use RNNs, CNNs or Transformers.\n",
    "- Making your app react to voice commands: This is speech recognition, can be tackled by recognizing the incoming audio signals using RNNs, CNNs or Transformers.\n",
    "- Detecting credit card fraud: this is anomaly detection.\n",
    "- Segmenting clients based on their purchases so you can design targeted more effective marketing campaigns, a Clustering problem\n",
    "- Representing a complex, high-dimensional dataset in a diagram: this is data visualization, typically using dimensionality reduction algorithms such as PCA.\n",
    "- Recommending a product based on the client's purchases history: this is a recommender system, where you can feed in the sequence of purchases to an artificial neural network to predict the next purchase.\n",
    "- Building an intelligent bot for a game: this is usually solved using reinforcement learning"
   ]
  },
  {
   "cell_type": "markdown",
   "metadata": {},
   "source": [
    "## Types of Machine Learning Systems\n",
    "\n",
    "- Supervised/Unsupervised Learning\n",
    "    - Machine learning algorithms can be classified according to the amount of supervision they get during training\n",
    "    - They are 4 major categories\n",
    "        - Supervised Learning\n",
    "            - The training set you feed into the supervised learning algorithm contains the targets/labels/desired predictions.\n",
    "            - Most supervised learning tasks fall under two umbrellas: Classification/Regression\n",
    "            - Some regression-based models are used for classification as well, such as `Logistic Regression` which outputs a probability $\\in [0,1]$\n",
    "            - Here are some of the most important supervised learning algorithms\n",
    "                - K-nearest Neighbors\n",
    "                - Linear Regression\n",
    "                - Logistic Regression\n",
    "                - Decision Trees and Random Forests\n",
    "                - Artificial Neural Networks\n",
    "                - Naive Bayes\n",
    "        - Semi-supervised Learning\n",
    "        - Reinforcement Learning\n",
    "        - Unsupervised Learning\n",
    "            - The data is unlabeled, the system is trying to learn without a teacher.\n",
    "            - Here are some unsupervised learning algorithms\n",
    "                - Clustering\n",
    "                    - K-means\n",
    "                    - DBSCAN\n",
    "                    - Hirerchical Cluster Analysis\n",
    "                - Anomaly Detection\n",
    "                    - one-class SVM\n",
    "                    - Isolation Forest\n",
    "                - Visualization & Dimensionality Reduction: the goal is to compress/simplify the data without losing too much information (1 way to do it is to merge highly correlated features)\n",
    "                    - Principal Component Analysis: PCA\n",
    "                    - t-distributed stochastic Neighbor Embedding: T-SNE\n",
    "                    - Autoencoders\n",
    "                    - Kernel PCA\n",
    "                    - Local Linear Embedding (LLE)\n",
    "                - Association rule learning: find interesting relations between attributes\n",
    "                    - Apriori\n",
    "                    - Eclat\n",
    "        - Semi-supervised Learning\n",
    "            - You have partially-labeled data\n",
    "            - The goal is to not classify the unlebeled ones but to use them around the labeled points as helpers to solve the task\n",
    "            - Most semi-supervised learning algorithms are a combination of unsupervised and supervised learning algorithms\n",
    "        - Reinforcement Learning\n",
    "            - RL is a very different beast.\n",
    "            - An agent observes the environment, selects an action, gets a reward, and updates its policy.\n",
    "- Batch & Online Learning\n",
    "    - Another criterion to classify a machine learning algorithm is whether it learns from an incoming stream of data or not.\n",
    "    - Batch Learning\n",
    "        - In batch learning, the model is incapable of incrementally learning, It first learns from all of the available data offline, and then get deployed to produce predictions without feeding it any new data points.\n",
    "        - Another name of batch learning is Offline Learning.\n",
    "    - ..."
   ]
  },
  {
   "cell_type": "code",
   "execution_count": null,
   "metadata": {},
   "outputs": [],
   "source": []
  },
  {
   "cell_type": "code",
   "execution_count": null,
   "metadata": {},
   "outputs": [],
   "source": []
  },
  {
   "cell_type": "code",
   "execution_count": null,
   "metadata": {},
   "outputs": [],
   "source": []
  },
  {
   "cell_type": "code",
   "execution_count": null,
   "metadata": {},
   "outputs": [],
   "source": []
  },
  {
   "cell_type": "code",
   "execution_count": null,
   "metadata": {},
   "outputs": [],
   "source": []
  }
 ],
 "metadata": {
  "kernelspec": {
   "display_name": "Python 3",
   "language": "python",
   "name": "python3"
  },
  "language_info": {
   "codemirror_mode": {
    "name": "ipython",
    "version": 3
   },
   "file_extension": ".py",
   "mimetype": "text/x-python",
   "name": "python",
   "nbconvert_exporter": "python",
   "pygments_lexer": "ipython3",
   "version": "3.7.3"
  }
 },
 "nbformat": 4,
 "nbformat_minor": 4
}
