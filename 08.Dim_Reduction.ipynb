{
 "cells": [
  {
   "cell_type": "code",
   "execution_count": 1,
   "metadata": {},
   "outputs": [],
   "source": [
    "# default_exp reduction\n",
    "# default_cls_lvl 2"
   ]
  },
  {
   "cell_type": "markdown",
   "metadata": {},
   "source": [
    "# Chapter 8. Dimensionality Reduction\n",
    ">"
   ]
  },
  {
   "cell_type": "markdown",
   "metadata": {},
   "source": [
    "- Many ML problems will involve thousands or even millions of features per instance.\n",
    "- Not only all of these features make training extremly slow, but they can also make it much harder for an optimization method to find a good solution.\n",
    "- This problem is often referred to as the **curse of dimensionality**.\n",
    "- In real world problem, it is often possible to reduce the number of features considerably.\n",
    "    - Turning an intractable problem into a tractable one.\n",
    "- The goal is to remove the maximum number of features while minimizing information loss that relates to a specific task\n",
    "    - Task example — Classifying MNIST digits.\n",
    "- Reducing dimensionality does cause some information loss.\n",
    "- It also makes your pipeline a bit more complex and thus harder to maintain.\n",
    "- Dimensionality reduction is usually conducted to **speed up training**.\n",
    "- Dimensionality reduction is also extremly useful for data visualization.\n",
    "    - Taking it down to 2/3 dimensions for your data set will allow you visualize it in a 2/3D space.\n",
    "- DataViz is also important to communicate your findings to people who are not data scientists.\n",
    "    - In Particular, decision makers who will use your results."
   ]
  },
  {
   "cell_type": "markdown",
   "metadata": {},
   "source": [
    "- In this chapter we will:\n",
    "    - Discuss the curse of dimenstionality.\n",
    "    - Get a sense of what goes on in a high-dimenstional space.\n",
    "    - Consider the main two approaches to dimensionality reduction:\n",
    "        - Projection\n",
    "        - Manifold Learning\n",
    "    - Go through 3 popular dimensionality reduction techniques:\n",
    "        - PCA\n",
    "        - Kernel PCA\n",
    "        - LLE"
   ]
  },
  {
   "cell_type": "markdown",
   "metadata": {},
   "source": [
    "## The Curse of Dimensionality"
   ]
  },
  {
   "cell_type": "markdown",
   "metadata": {},
   "source": [
    "- We are so used to living in three dimensions\n",
    "    - 4 if you consider time, and a few more if you are a string theorist.\n",
    "- It turns out that many things behave very differently in high-dimensional spaces.\n",
    "- If you pick a random point in a unit square, it will have ~0.4% chance of being located at <0.001 from a border.\n",
    "- But in a 1,000-dimensional hyper-cube the probability is >99.999999%.\n",
    "    - Most points in a high-dimensional space are very close to the border.\n",
    "- Same goes to distances betweeen points, If you pick two random points in a lower dimensional space, they will be closer in comparison to picking them from a high-dimensional space.\n",
    "- **There is just plenty of space in a high-dimensional one!**\n",
    "- High-dimensional datasets are at risk of being too sparse.\n",
    "- The most dimensions a dataset has, the more risk it is to overfit it."
   ]
  },
  {
   "cell_type": "markdown",
   "metadata": {},
   "source": [
    "## Main Approaches to Dimensionality Reduction"
   ]
  },
  {
   "cell_type": "markdown",
   "metadata": {},
   "source": [
    "### Projection"
   ]
  },
  {
   "cell_type": "markdown",
   "metadata": {},
   "source": [
    "- In most real-world problems, training instances are not spread out uniformly across the dimensions.\n",
    "    - Many features are almost constant, while others are highly correlated.\n",
    "- As a result, all training instances like close to a much-lower dimensional **subspace** of the high-dimensional space.\n",
    "- Here is an example of that:\n",
    "\n",
    "<div style=\"text-align:center;\">\n",
    "    <img style=\"width:50%\" src=\"static/imgs/subspace_projection.png\" />\n",
    "</div>\n",
    "\n",
    "- If we perpenducarly project every training instance into the subspace, we get a new 2D dataset represented as follows:\n",
    "\n",
    "<div style=\"text-align:center;\">\n",
    "    <img style=\"width:50%\" src=\"static/imgs/2d_projection.png\" />\n",
    "</div>\n",
    "\n",
    "- However, projection is not always to best approach to dimensionality reduction.\n",
    "    - In many case the subspace may twist & turn."
   ]
  },
  {
   "cell_type": "markdown",
   "metadata": {},
   "source": [
    "### Manifold Learning"
   ]
  },
  {
   "cell_type": "markdown",
   "metadata": {},
   "source": [
    "- A 2D manifold is a 2D shape that can be bent & twisted in a higher-dimensional space.\n",
    "- More generally, a d-dimensional manifold is part of an n-dimensional space (where d < n), that locally resembles a d-dimensional hyperplace.\n",
    "- Many dimensionality reduction algorithms work by modeling the manifold on which the training instances lie, this is called **Manifold Learning**.\n",
    "    - It relies on the *manifold assumption*, also called the *manifold hypothesis*.\n",
    "        - Which holds that most real world high-dimensional datasets lie close to a much lower-dimensional manifold.\n",
    "            - **This assumption is very often empirically observed**.\n",
    "- Thought experiment\n",
    "    - If you were to generate random images on a 28x28 grid, only a very small fraction of them would look like handwritten digits.\n",
    "    - In other words, the degrees of freedom available to you if you were to create a digit image are very low compared to the degree of freedom you have when you want to create any image you want (random).\n",
    "    - **These constraints tend to squeeze the dataset into a lower-dimensional manifold**.\n",
    "- An implicit additional assumption is that the task at hand (being regression or classification) would be much easier if conducted on the lower dimensional manifold space.\n",
    "    - This assumption does not always hold.\n",
    "    - Examples to follow:\n",
    "\n",
    "<div style=\"text-align:center;\">\n",
    "    <img style=\"width:50%\" src=\"static/imgs/manifold_classification.png\" />\n",
    "</div>\n",
    "\n",
    "- In short, reducing the dimensionality of your dataset will speed up training, but it doesn't guarantee a simpler solution.\n",
    "    - It all depends on the dataset and the task at hand.\n",
    "- Now we will go through some of the most popular dimensionality reduction algorithms."
   ]
  },
  {
   "cell_type": "markdown",
   "metadata": {},
   "source": [
    "## PCA"
   ]
  },
  {
   "cell_type": "markdown",
   "metadata": {},
   "source": [
    "- Principal Component Analysis is by far the most popular dimensionality reduction algorithm.\n",
    "- First, **It identifies the hyperplane that lies closest to the data**.\n",
    "- Then, **It projects the data into it**."
   ]
  },
  {
   "cell_type": "markdown",
   "metadata": {},
   "source": [
    "### Preserving the Variance"
   ]
  },
  {
   "cell_type": "markdown",
   "metadata": {},
   "source": [
    "- We want to choose a hyperplace that most preserves tha variance within the data, following is attempted projections for 3 chosen hyperplanes (1D axis):\n",
    "\n",
    "<div style=\"text-align:center;\">\n",
    "    <img style=\"width:66%\" src=\"static/imgs/2D_variance_projection.png\" />\n",
    "</div>\n",
    "\n",
    "- It seems reasonable to select the axis that preserves the maximum amount of variance.\n",
    "    - As it will most likely lose less information than other projections.\n",
    "- Another way of looking at it is by choosing the solid line axis, we are minimizing the mean squared distance between the original points and their projections into the chosen axis.\n",
    "    - This is the rather simple idea behind PCA."
   ]
  },
  {
   "cell_type": "markdown",
   "metadata": {},
   "source": [
    "### Principle Components"
   ]
  },
  {
   "cell_type": "markdown",
   "metadata": {},
   "source": [
    "- PCA identifies the axis that accounts for the largest amount of variance in the training set.\n",
    "- It also finds a second axis, orthogonal to the first one, that accounts for the largest amount of remaining variance.\n",
    "- If we're considering a higher-dimensional dataset, PCA would also find a third axis, and a fourth, and a fifth, and so on...\n",
    "    - As many axes as the number of dimensions in the dataset.\n",
    "- The ith axis is called the ith **principal component** of the data.\n",
    "- So how can you find the principal components of a training set?\n",
    "- There is a standard matrix vectorization technique called *Singular Value Decomposition (SVD)*\n",
    "    - It can decompose the training set $X$ into $X=U \\Sigma V^T$\n",
    "    - $V$ contains the unit vectors that define all the principal components that we are looking for:\n",
    "    \n",
    "$$V=\n",
    "  \\begin{pmatrix}\n",
    "    \\vert & \\vert & \\dots & \\vert \\\\\n",
    "    c_1 & c_2 & \\dots & c_n \\\\\n",
    "    \\vert & \\vert & \\dots & \\vert \\\\\n",
    "  \\end{pmatrix}\n",
    "$$\n",
    "\n",
    "- let's extract the principal components of a dataset using numpy's `svd` implementation:"
   ]
  },
  {
   "cell_type": "markdown",
   "metadata": {},
   "source": [
    "- Let's start by generating some data:"
   ]
  },
  {
   "cell_type": "code",
   "execution_count": 2,
   "metadata": {},
   "outputs": [],
   "source": [
    "import numpy as np\n",
    "import pandas as pd\n",
    "import matplotlib.pyplot as plt\n",
    "import seaborn as sns\n",
    "import sklearn"
   ]
  },
  {
   "cell_type": "code",
   "execution_count": 3,
   "metadata": {},
   "outputs": [
    {
     "data": {
      "text/plain": [
       "((100,), (100,))"
      ]
     },
     "execution_count": 3,
     "metadata": {},
     "output_type": "execute_result"
    }
   ],
   "source": [
    "X = np.linspace(start=-1., stop=1., num=100)\n",
    "y = X + np.random.normal(size=100)/7.\n",
    "X.shape, y.shape"
   ]
  },
  {
   "cell_type": "code",
   "execution_count": 4,
   "metadata": {},
   "outputs": [
    {
     "data": {
      "image/png": "[encoded data removed]",
      "text/plain": [
       "<Figure size 432x288 with 1 Axes>"
      ]
     },
     "metadata": {
      "needs_background": "light"
     },
     "output_type": "display_data"
    }
   ],
   "source": [
    "plt.scatter(X, y, c='blue')\n",
    "plt.xlabel('$X_1$')\n",
    "plt.ylabel('$X_2$')\n",
    "plt.grid()\n",
    "plt.show()"
   ]
  },
  {
   "cell_type": "code",
   "execution_count": 5,
   "metadata": {},
   "outputs": [
    {
     "data": {
      "text/plain": [
       "(100, 2)"
      ]
     },
     "execution_count": 5,
     "metadata": {},
     "output_type": "execute_result"
    }
   ],
   "source": [
    "X = np.concatenate((X[..., None], y[..., None]), axis=1)\n",
    "X.shape"
   ]
  },
  {
   "cell_type": "code",
   "execution_count": 6,
   "metadata": {},
   "outputs": [],
   "source": [
    "X_centered = X - X.mean(axis=0)"
   ]
  },
  {
   "cell_type": "code",
   "execution_count": 7,
   "metadata": {},
   "outputs": [],
   "source": [
    "U, s, Vt = np.linalg.svd(a=X_centered)"
   ]
  },
  {
   "cell_type": "code",
   "execution_count": 8,
   "metadata": {},
   "outputs": [],
   "source": [
    "c1 = Vt.T[:, 0]\n",
    "c2 = Vt.T[:, 1]"
   ]
  },
  {
   "cell_type": "code",
   "execution_count": 9,
   "metadata": {},
   "outputs": [
    {
     "data": {
      "text/plain": [
       "(array([0.68687442, 0.72677612]), array([-0.72677612,  0.68687442]))"
      ]
     },
     "execution_count": 9,
     "metadata": {},
     "output_type": "execute_result"
    }
   ],
   "source": [
    "c1, c2"
   ]
  },
  {
   "cell_type": "markdown",
   "metadata": {},
   "source": [
    "- These two 2D points represent the unit vector points (origin at (0,0)) corresponding to the 2 principal components (axes that preserve variance).\n",
    "- PCA assumes that the dataset is centered around the origin, but scikit-learn implementation takes care of centering the data for you."
   ]
  },
  {
   "cell_type": "markdown",
   "metadata": {},
   "source": [
    "### Projecting down to $d$ Dimensions"
   ]
  },
  {
   "cell_type": "markdown",
   "metadata": {},
   "source": [
    "- Once you have identified all the principal components, you can reduce the dimensionality of the dataset down to $d$ dimensions by projecting it onto the hyperplane defined by the first $d$ principal components.\n",
    "- Selecting this hyperplane ensures that the projection will preserve as much variance as possible.\n",
    "- To Project the training set into the hyperplane and obtain a reduced dataset $X_{d-proj}$ of dimensionality $d$:\n",
    "    - Compute the matrix multiplication of the training set matrix $X$ by the matrix $W_{d}$ \n",
    "        - $W_{d}$ is the matrix containing the first $d$ columns of $V$ representing the principal components.\n",
    "\n",
    "$$X_{d-proj}=XW_d$$\n",
    "\n",
    "- Let's do it in Python:"
   ]
  },
  {
   "cell_type": "code",
   "execution_count": 10,
   "metadata": {},
   "outputs": [],
   "source": [
    "W2 = Vt.T[:, :2]"
   ]
  },
  {
   "cell_type": "code",
   "execution_count": 11,
   "metadata": {},
   "outputs": [
    {
     "data": {
      "text/plain": [
       "(100, 2)"
      ]
     },
     "execution_count": 11,
     "metadata": {},
     "output_type": "execute_result"
    }
   ],
   "source": [
    "X2D = X_centered.dot(W2)\n",
    "X2D.shape"
   ]
  },
  {
   "cell_type": "markdown",
   "metadata": {},
   "source": [
    "### Using Scikit-Learn"
   ]
  },
  {
   "cell_type": "code",
   "execution_count": 12,
   "metadata": {},
   "outputs": [],
   "source": [
    "from sklearn.decomposition import PCA"
   ]
  },
  {
   "cell_type": "code",
   "execution_count": 13,
   "metadata": {},
   "outputs": [],
   "source": [
    "pca = PCA(n_components=2)"
   ]
  },
  {
   "cell_type": "code",
   "execution_count": 14,
   "metadata": {},
   "outputs": [],
   "source": [
    "X2D = pca.fit_transform(X)"
   ]
  },
  {
   "cell_type": "code",
   "execution_count": 15,
   "metadata": {},
   "outputs": [],
   "source": [
    "assert np.all(np.abs(pca.components_) == np.abs(W2))"
   ]
  },
  {
   "cell_type": "markdown",
   "metadata": {},
   "source": [
    "### Explained Variance Ratio"
   ]
  },
  {
   "cell_type": "markdown",
   "metadata": {},
   "source": [
    "- The ratio indicates the proportion of the dataset's variance lying along each principal component.\n",
    "- Let's take a look at it for our scikit-learn learner:"
   ]
  },
  {
   "cell_type": "code",
   "execution_count": 16,
   "metadata": {},
   "outputs": [
    {
     "data": {
      "text/plain": [
       "(array([0.98079986, 0.01920014]), 1.0)"
      ]
     },
     "execution_count": 16,
     "metadata": {},
     "output_type": "execute_result"
    }
   ],
   "source": [
    "pca.explained_variance_ratio_, np.sum(pca.explained_variance_ratio_)"
   ]
  },
  {
   "cell_type": "markdown",
   "metadata": {},
   "source": [
    "### Choosing the Right Number of Dimensions"
   ]
  },
  {
   "cell_type": "markdown",
   "metadata": {},
   "source": [
    "- Choose the number of dimensions that add up to a large portion of the variance that lied within the original dataset.\n",
    "    - Example: $>=95\\%$\n",
    "- Unless, ofcoures, you are reducing dimensionality to visualize the data.\n",
    "    - In that case you will want to reduce the data down to 2/3 axis.\n",
    "- Let's do it in scikit-learn:"
   ]
  },
  {
   "cell_type": "code",
   "execution_count": 17,
   "metadata": {},
   "outputs": [],
   "source": [
    "pca = PCA()"
   ]
  },
  {
   "cell_type": "code",
   "execution_count": 18,
   "metadata": {},
   "outputs": [
    {
     "data": {
      "text/plain": [
       "PCA(copy=True, iterated_power='auto', n_components=None, random_state=None,\n",
       "    svd_solver='auto', tol=0.0, whiten=False)"
      ]
     },
     "execution_count": 18,
     "metadata": {},
     "output_type": "execute_result"
    }
   ],
   "source": [
    "pca.fit(X)"
   ]
  },
  {
   "cell_type": "code",
   "execution_count": 19,
   "metadata": {},
   "outputs": [],
   "source": [
    "cumsum = np.cumsum(pca.explained_variance_ratio_)"
   ]
  },
  {
   "cell_type": "code",
   "execution_count": 20,
   "metadata": {},
   "outputs": [],
   "source": [
    "d = np.argmax(cumsum >= .95) + 1"
   ]
  },
  {
   "cell_type": "code",
   "execution_count": 21,
   "metadata": {},
   "outputs": [
    {
     "data": {
      "text/plain": [
       "1"
      ]
     },
     "execution_count": 21,
     "metadata": {},
     "output_type": "execute_result"
    }
   ],
   "source": [
    "d"
   ]
  },
  {
   "cell_type": "markdown",
   "metadata": {},
   "source": [
    "- Then re-run PCA training using $d$.\n",
    "- But there is a much better option, that of specifying a float for `n_components` as the ratio of variance we want to preserve."
   ]
  },
  {
   "cell_type": "code",
   "execution_count": 22,
   "metadata": {},
   "outputs": [],
   "source": [
    "pca = PCA(n_components=0.95)"
   ]
  },
  {
   "cell_type": "code",
   "execution_count": 23,
   "metadata": {},
   "outputs": [],
   "source": [
    "X_reduced = pca.fit_transform(X)"
   ]
  },
  {
   "cell_type": "markdown",
   "metadata": {},
   "source": [
    "### `PCA` for Compression "
   ]
  },
  {
   "cell_type": "markdown",
   "metadata": {},
   "source": [
    "- After dimensionality reduction, the training set takes much less space.\n",
    "- It is also possible to decompress the reduced dataset back to $784$ (in the case of MNIST) by applying **the inverse transformation of the PCA projection**.\n",
    "    - **This won't give you back the original data since 5% of the variance was lost while compressing**.\n",
    "    - But it will likely be close to the original dataset.\n",
    "- **The mean squared distance between the original dataset and the decompressed dataset is called the Reconstruction Error**.\n",
    "- Let's do it with scikit-learn:"
   ]
  },
  {
   "cell_type": "code",
   "execution_count": 24,
   "metadata": {},
   "outputs": [],
   "source": [
    "from sklearn import datasets\n",
    "from sklearn.model_selection import train_test_split"
   ]
  },
  {
   "cell_type": "code",
   "execution_count": 25,
   "metadata": {},
   "outputs": [],
   "source": [
    "X, y = datasets.fetch_openml(name='mnist_784', return_X_y=True)"
   ]
  },
  {
   "cell_type": "code",
   "execution_count": 26,
   "metadata": {},
   "outputs": [],
   "source": [
    "X_train, X_test, y_train, y_test = train_test_split(X, y, test_size=0.33)"
   ]
  },
  {
   "cell_type": "code",
   "execution_count": 27,
   "metadata": {},
   "outputs": [
    {
     "data": {
      "text/plain": [
       "((46900, 784), (23100, 784), (46900,), (23100,))"
      ]
     },
     "execution_count": 27,
     "metadata": {},
     "output_type": "execute_result"
    }
   ],
   "source": [
    "X_train.shape, X_test.shape, y_train.shape, y_test.shape"
   ]
  },
  {
   "cell_type": "code",
   "execution_count": 28,
   "metadata": {},
   "outputs": [],
   "source": [
    "pca = PCA(n_components=154)"
   ]
  },
  {
   "cell_type": "code",
   "execution_count": 29,
   "metadata": {},
   "outputs": [],
   "source": [
    "X_reduced = pca.fit_transform(X_train)"
   ]
  },
  {
   "cell_type": "code",
   "execution_count": 30,
   "metadata": {},
   "outputs": [],
   "source": [
    "X_recovered = pca.inverse_transform(X_reduced)"
   ]
  },
  {
   "cell_type": "code",
   "execution_count": 31,
   "metadata": {},
   "outputs": [
    {
     "data": {
      "image/png": "[encoded data removed]",
      "text/plain": [
       "<Figure size 432x288 with 1 Axes>"
      ]
     },
     "metadata": {
      "needs_background": "light"
     },
     "output_type": "display_data"
    }
   ],
   "source": [
    "plt.imshow(X_train[0].reshape(28, 28), cmap='binary')\n",
    "plt.axis('off')\n",
    "plt.show()"
   ]
  },
  {
   "cell_type": "code",
   "execution_count": 32,
   "metadata": {},
   "outputs": [
    {
     "data": {
      "image/png": "[encoded data removed]",
      "text/plain": [
       "<Figure size 432x288 with 1 Axes>"
      ]
     },
     "metadata": {
      "needs_background": "light"
     },
     "output_type": "display_data"
    }
   ],
   "source": [
    "plt.imshow(X_recovered[0].reshape(28, 28), cmap='binary')\n",
    "plt.axis('off')\n",
    "plt.show()"
   ]
  },
  {
   "cell_type": "markdown",
   "metadata": {},
   "source": [
    "- Following is the equation of the inverse transformation:\n",
    "\n",
    "$$X_{recovered}=X_{d-proj}W_{d}^{T}$$"
   ]
  },
  {
   "cell_type": "markdown",
   "metadata": {},
   "source": [
    "### Randomized PCA"
   ]
  },
  {
   "cell_type": "markdown",
   "metadata": {},
   "source": [
    "- We can use a stochastic algorithm called *Randomized PCA* that quickly finds an approximation of the first $d$ principal components.\n",
    "- Its computational complexity is $O(m \\times d^{2})+O(d^3)$ instead of SVD's $O(m \\times n^{2})+O(n^3)$.\n",
    "- So it's dramatically faster then SVD when $d << n$.\n",
    "- Let's use it with `scikit-learn`:"
   ]
  },
  {
   "cell_type": "code",
   "execution_count": 33,
   "metadata": {},
   "outputs": [],
   "source": [
    "rnd_pca = PCA(n_components=154, svd_solver='randomized')"
   ]
  },
  {
   "cell_type": "code",
   "execution_count": 34,
   "metadata": {},
   "outputs": [],
   "source": [
    "X_reduced = rnd_pca.fit_transform(X_train)"
   ]
  },
  {
   "cell_type": "markdown",
   "metadata": {},
   "source": [
    "### Incremental PCA"
   ]
  },
  {
   "cell_type": "markdown",
   "metadata": {},
   "source": [
    "- One problem with the previous implementations of PCA is that they require the whole training data to fit in memory.\n",
    "- Fortunately, **incremental PCA** algorithms have been developed.\n",
    "- They allow us to split the training set in mini-batches and feed them one at a time to the IPCA algorithm.\n",
    "- This is useful when having large training sets or doing online learning.\n",
    "- Let's experiment with incremental PCA using scikit-learn:"
   ]
  },
  {
   "cell_type": "code",
   "execution_count": 35,
   "metadata": {},
   "outputs": [],
   "source": [
    "from sklearn.decomposition import IncrementalPCA"
   ]
  },
  {
   "cell_type": "code",
   "execution_count": 36,
   "metadata": {},
   "outputs": [],
   "source": [
    "n_batches = 100\n",
    "inc_pca = IncrementalPCA(n_components=154)"
   ]
  },
  {
   "cell_type": "code",
   "execution_count": 37,
   "metadata": {},
   "outputs": [],
   "source": [
    "for X_batch in np.array_split(X_train, n_batches):\n",
    "    inc_pca.partial_fit(X_batch)"
   ]
  },
  {
   "cell_type": "code",
   "execution_count": 38,
   "metadata": {},
   "outputs": [],
   "source": [
    "X_reduced = inc_pca.transform(X_train)"
   ]
  },
  {
   "cell_type": "markdown",
   "metadata": {},
   "source": [
    "- We can also mimic normal fitting behavior by using the `memap` class to store our training data:"
   ]
  },
  {
   "cell_type": "markdown",
   "metadata": {},
   "source": [
    "## Kernel PCA"
   ]
  },
  {
   "cell_type": "markdown",
   "metadata": {},
   "source": [
    "- Recall that a linear decision boundary in a high-dimensional space corresponds to a non-linear decision boundary in the original low-dimensional space.\n",
    "- It turns out that the \"kernel trick\" can also be applied to PCA.\n",
    "- Making it possible to perform complex non-linear projections for dimensionality reduction.\n",
    "- It's often **good at preserving clusters of instances after projecting them**.\n",
    "- Let's use kPCA in scikit-learn:"
   ]
  },
  {
   "cell_type": "markdown",
   "metadata": {},
   "source": [
    "- First we create a swiss roll:"
   ]
  },
  {
   "cell_type": "code",
   "execution_count": 39,
   "metadata": {},
   "outputs": [],
   "source": [
    "X, _ = datasets.make_swiss_roll(n_samples=1000, noise=1)"
   ]
  },
  {
   "cell_type": "code",
   "execution_count": 40,
   "metadata": {},
   "outputs": [],
   "source": [
    "from sklearn.decomposition import KernelPCA"
   ]
  },
  {
   "cell_type": "code",
   "execution_count": 41,
   "metadata": {},
   "outputs": [],
   "source": [
    "rbf_pca = KernelPCA(n_components=2, kernel='rbf', gamma=0.04, n_jobs=-1)"
   ]
  },
  {
   "cell_type": "code",
   "execution_count": 42,
   "metadata": {},
   "outputs": [],
   "source": [
    "X_reduced = rbf_pca.fit_transform(X)"
   ]
  },
  {
   "cell_type": "code",
   "execution_count": 43,
   "metadata": {},
   "outputs": [
    {
     "data": {
      "text/plain": [
       "(1000, 2)"
      ]
     },
     "execution_count": 43,
     "metadata": {},
     "output_type": "execute_result"
    }
   ],
   "source": [
    "X_reduced.shape"
   ]
  },
  {
   "cell_type": "markdown",
   "metadata": {},
   "source": [
    "### Selecting a Kernel and Tuning Hyperparameters"
   ]
  },
  {
   "cell_type": "markdown",
   "metadata": {},
   "source": [
    "- *Note: Use a GPU*\n",
    "- As kPCA is an unsupervised learning algorithm, there is no obvious performance measure to help you select the best kernel and hyper-parameter values.\n",
    "- That said, dimensionality reduction is often a pre-processing step for a supervised learning task.\n",
    "- So you can use grid search to select the kernel and hyper-parameters that lead to the best performance on the end task.\n",
    "- The following scikit-learn example create a two step pipeline:\n",
    "    - First reducing the dimensionality to 2 dimensions using kPCA.\n",
    "    - Then Applying logistic regression for classification.\n",
    "- Then we use `GridSearchCV` to find the best **kernel** and **gamma** value for kPCA in order to get the best classification accuracy at the end of the pipeline."
   ]
  },
  {
   "cell_type": "code",
   "execution_count": 53,
   "metadata": {},
   "outputs": [],
   "source": [
    "from sklearn.model_selection import GridSearchCV\n",
    "from sklearn.linear_model import LogisticRegression\n",
    "from sklearn.pipeline import Pipeline"
   ]
  },
  {
   "cell_type": "code",
   "execution_count": 59,
   "metadata": {},
   "outputs": [],
   "source": [
    "clf = Pipeline([\n",
    "    ('kpca', KernelPCA(n_components=2)),\n",
    "    ('log_reg', LogisticRegression())\n",
    "])"
   ]
  },
  {
   "cell_type": "code",
   "execution_count": 60,
   "metadata": {},
   "outputs": [],
   "source": [
    "param_grid = [{\n",
    "    \"kpca__gamma\": np.linspace(0.03, 0.05, 5),\n",
    "    \"kpca__kernel\": [\"rbf\", \"sigmoid\"]\n",
    "}]"
   ]
  },
  {
   "cell_type": "code",
   "execution_count": 61,
   "metadata": {},
   "outputs": [],
   "source": [
    "grid_search = GridSearchCV(clf, param_grid, cv=3, n_jobs=-1)"
   ]
  },
  {
   "cell_type": "code",
   "execution_count": 62,
   "metadata": {},
   "outputs": [
    {
     "name": "stderr",
     "output_type": "stream",
     "text": [
      "/opt/conda/lib/python3.7/site-packages/sklearn/linear_model/logistic.py:432: FutureWarning: Default solver will be changed to 'lbfgs' in 0.22. Specify a solver to silence this warning.\n",
      "  FutureWarning)\n",
      "/opt/conda/lib/python3.7/site-packages/sklearn/linear_model/logistic.py:469: FutureWarning: Default multi_class will be changed to 'auto' in 0.22. Specify the multi_class option to silence this warning.\n",
      "  \"this warning.\", FutureWarning)\n"
     ]
    },
    {
     "data": {
      "text/plain": [
       "GridSearchCV(cv=3, error_score='raise-deprecating',\n",
       "             estimator=Pipeline(memory=None,\n",
       "                                steps=[('kpca',\n",
       "                                        KernelPCA(alpha=1.0, coef0=1,\n",
       "                                                  copy_X=True, degree=3,\n",
       "                                                  eigen_solver='auto',\n",
       "                                                  fit_inverse_transform=False,\n",
       "                                                  gamma=None, kernel='linear',\n",
       "                                                  kernel_params=None,\n",
       "                                                  max_iter=None, n_components=2,\n",
       "                                                  n_jobs=None,\n",
       "                                                  random_state=None,\n",
       "                                                  remove_zero_eig=False,\n",
       "                                                  tol=0)),\n",
       "                                       ('log_reg',\n",
       "                                        LogisticReg...\n",
       "                                                           l1_ratio=None,\n",
       "                                                           max_iter=100,\n",
       "                                                           multi_class='warn',\n",
       "                                                           n_jobs=None,\n",
       "                                                           penalty='l2',\n",
       "                                                           random_state=None,\n",
       "                                                           solver='warn',\n",
       "                                                           tol=0.0001,\n",
       "                                                           verbose=0,\n",
       "                                                           warm_start=False))],\n",
       "                                verbose=False),\n",
       "             iid='warn', n_jobs=-1,\n",
       "             param_grid=[{'kpca__gamma': array([0.03 , 0.035, 0.04 , 0.045, 0.05 ]),\n",
       "                          'kpca__kernel': ['rbf', 'sigmoid']}],\n",
       "             pre_dispatch='2*n_jobs', refit=True, return_train_score=False,\n",
       "             scoring=None, verbose=0)"
      ]
     },
     "execution_count": 62,
     "metadata": {},
     "output_type": "execute_result"
    }
   ],
   "source": [
    "grid_search.fit(X_train[:10000], y_train[:10000])  # not enough compute for all training all"
   ]
  },
  {
   "cell_type": "code",
   "execution_count": 64,
   "metadata": {},
   "outputs": [
    {
     "data": {
      "text/plain": [
       "{'kpca__gamma': 0.03, 'kpca__kernel': 'rbf'}"
      ]
     },
     "execution_count": 64,
     "metadata": {},
     "output_type": "execute_result"
    }
   ],
   "source": [
    "grid_search.best_params_"
   ]
  },
  {
   "cell_type": "markdown",
   "metadata": {},
   "source": [
    "- Another approach, entirely unsupervised, is to select the kernel and hyper-parameters that **yield the lowest reconstruction error**.\n",
    "- Let's visualize the steps we take with kernel-based dimensionality reduction:\n",
    "\n",
    "<div style=\"text-align:center;\">\n",
    "    <img style=\"width:50%\" src=\"static/imgs/reconstruction_vis.png\" />\n",
    "</div>\n",
    "\n",
    "- Notice that when we invert our final transformation, we get instance on the infinite feature space and not the original space.\n",
    "- Since the feature space is infinite, we cannot compute the reconstruction loss. \n",
    "- But it's possible to find a point in the original space that map close to the reconstructed point, this point is called the reconstructed **pre-image**.\n",
    "- Once you have the pre-image, you can measure its squared distance to the original instance.\n",
    "- In terms of **how to perform the reconstruction**, You can train a supervised learning algorithm to find a mapping between the original dataset and the reduced data.\n",
    "- scikit-learn can do it for you with the `fit_inverse_transform` hyper-parameter:"
   ]
  },
  {
   "cell_type": "code",
   "execution_count": 65,
   "metadata": {},
   "outputs": [],
   "source": [
    "rbf_pca = KernelPCA(n_components=2, kernel='rbf', gamma=0.0433, fit_inverse_transform=True)"
   ]
  },
  {
   "cell_type": "code",
   "execution_count": 66,
   "metadata": {},
   "outputs": [],
   "source": [
    "X_reduced = rbf_pca.fit_transform(X)"
   ]
  },
  {
   "cell_type": "code",
   "execution_count": 67,
   "metadata": {},
   "outputs": [],
   "source": [
    "X_preimage = rbf_pca.inverse_transform(X_reduced)"
   ]
  },
  {
   "cell_type": "code",
   "execution_count": 68,
   "metadata": {},
   "outputs": [],
   "source": [
    "from sklearn.metrics import mean_squared_error"
   ]
  },
  {
   "cell_type": "code",
   "execution_count": 69,
   "metadata": {},
   "outputs": [
    {
     "data": {
      "text/plain": [
       "31.494723308154935"
      ]
     },
     "execution_count": 69,
     "metadata": {},
     "output_type": "execute_result"
    }
   ],
   "source": [
    "mean_squared_error(X, X_preimage)"
   ]
  },
  {
   "cell_type": "markdown",
   "metadata": {},
   "source": [
    "- You can you grid search to find the hyper-parameters that minimize this error."
   ]
  },
  {
   "cell_type": "markdown",
   "metadata": {},
   "source": [
    "## LLE"
   ]
  },
  {
   "cell_type": "markdown",
   "metadata": {},
   "source": [
    "- Locally Linear Embedding is a powerful non-linear dimensionality reduction technique.\n",
    "- It's a manifold learning technique that doesn't rely on projections like the previous algorithms do.\n",
    "- LLE works by first measuring how each instance relates to its neighbors\n",
    "- Then it looks for low-dimensional representation of the training set where each local relationship is best preserved.\n",
    "- Let's use it with scikit-learn:"
   ]
  },
  {
   "cell_type": "code",
   "execution_count": 70,
   "metadata": {},
   "outputs": [],
   "source": [
    "from sklearn.manifold import LocallyLinearEmbedding"
   ]
  },
  {
   "cell_type": "code",
   "execution_count": 71,
   "metadata": {},
   "outputs": [],
   "source": [
    "lle = LocallyLinearEmbedding(n_components=2, n_neighbors=10)"
   ]
  },
  {
   "cell_type": "code",
   "execution_count": 72,
   "metadata": {},
   "outputs": [],
   "source": [
    "X_reduced = lle.fit_transform(X)"
   ]
  },
  {
   "cell_type": "markdown",
   "metadata": {},
   "source": [
    "- The resulting 2D dataset is shown as follows:\n",
    "\n",
    "<div style=\"text-align:center;\">\n",
    "    <img style=\"width:50%\" src=\"static/imgs/swiss_unroll.png\" />\n",
    "</div>\n",
    "\n",
    "- LLE did a pretty good job at modeling the manifold.\n",
    "- Here is how LLE works:\n",
    "    1. For each training instance $x^{(i)}$, the algorithm identifies its $k$ closest neighbors.\n",
    "    2. The Algorithm tries to reconstruct $x^{(i)}$ as a linear function of these neighbors.\n",
    "    3. It finds $w_{i,j}$ such that it minimizes $J(x^{(i)}, \\sum_{j=1}^{m}w_{i,j}x^{(j)})$.\n",
    "- We can formalize the problem as follows:\n",
    "\n",
    "$$\\hat{W}=argmin_{W}\\sum_{i=1}^{m}(x^{(i)} - \\sum_{j=1}^{m}w_{i,j}x^{(j)}))^2$$\n",
    "\n",
    "- Such that the sum of each instance weights is $1$.\n",
    "- After this step, **$\\hat{W}$ encodes the local linear relationships between the training instances**.\n",
    "- The second step is to map the training instances into a d-dimensional space (where $d<n$) **while preserving these local relationships as much as possible**.\n",
    "- if $z^{(i)}$ is the image of $x^{(i)}$ in this d-dimensional space, then we want to minimize $J(z^{(i)}, \\sum_{j=1}^{m}\\hat{w}_{i,j}z^{(j)})$.\n",
    "- This leads to the following unconstrained optimization problem:\n",
    "\n",
    "$$\\hat{Z}=argmin_{Z}\\sum_{i=1}^{m}(z^{(i)} - \\sum_{j=1}^{m}\\hat{w}_{i,j}z^{(j)}))^2$$\n",
    "\n",
    "- Scikit-learn LLE implementation has the following computational complexity:\n",
    "    - $O(m log(m) n log(k))$ for finding the k nearest neighbors.\n",
    "    - $O(mnk^3)$ for optimizing the weights.\n",
    "    - $O(dm^2)$ for constructing the low-dimensional representations.\n",
    "        - The $m^2$ makes the algorithm scales very poorly to large datasets."
   ]
  },
  {
   "cell_type": "markdown",
   "metadata": {},
   "source": [
    "## Other Dimensionality Reduction Techniques"
   ]
  },
  {
   "cell_type": "markdown",
   "metadata": {},
   "source": [
    "- Here are some of the most popular ones\n",
    "    - [Random projections](https://scikit-learn.org/stable/modules/random_projection.html).\n",
    "    - Multidimensional scaling.\n",
    "    - IsoMap\n",
    "    - t-Distributed Stochastic Neighbor Embedding (t-SNE)\n",
    "    - Linear Discriminant Analysis (LDA)"
   ]
  },
  {
   "cell_type": "markdown",
   "metadata": {},
   "source": [
    "# Exercices"
   ]
  },
  {
   "cell_type": "markdown",
   "metadata": {},
   "source": [
    "**1. What are the main motivations for reducing a Dataset's dimensionality? What are the main Drawbacks?**\n",
    "\n",
    "- Motivations: So you can visualize the data in 2D/3D spaces. Also We want to reduce the dimensionality of big datasets that we suspect have static or very noisy features, so reduction will be a preprocessing step to then train the reduced dataset for the final task (faster training).\n",
    "- Drawbacks: By reducing the dimensionality of the dataset, we typically lose some useful information in the process even though we try to preserve as much as possible. So the resulting trained classifier will typically be weaker than a classifier trained on the original dataset."
   ]
  },
  {
   "cell_type": "markdown",
   "metadata": {},
   "source": [
    "**2. What is the curse of dimensionality?**\n",
    "\n",
    "- As we increase the number of dimensions (or features) the average distance between any two instance tend to increase as well, in other words, in a high-dimensional spaces, instances tend to sit on the edges of the space. This leads to training problems since no clusters are apparent in a space filled with void (in the case of a classification task). "
   ]
  },
  {
   "cell_type": "markdown",
   "metadata": {},
   "source": [
    "**3. Once a Dataset's dimensionality has been reduced, is it possible to reverse the operation? If so, how? If not, why?**\n",
    "\n",
    "- ..."
   ]
  },
  {
   "cell_type": "code",
   "execution_count": null,
   "metadata": {},
   "outputs": [],
   "source": []
  },
  {
   "cell_type": "code",
   "execution_count": null,
   "metadata": {},
   "outputs": [],
   "source": []
  },
  {
   "cell_type": "code",
   "execution_count": null,
   "metadata": {},
   "outputs": [],
   "source": []
  },
  {
   "cell_type": "code",
   "execution_count": null,
   "metadata": {},
   "outputs": [],
   "source": []
  },
  {
   "cell_type": "code",
   "execution_count": null,
   "metadata": {},
   "outputs": [],
   "source": []
  },
  {
   "cell_type": "code",
   "execution_count": null,
   "metadata": {},
   "outputs": [],
   "source": []
  }
 ],
 "metadata": {
  "kernelspec": {
   "display_name": "Python 3",
   "language": "python",
   "name": "python3"
  },
  "language_info": {
   "codemirror_mode": {
    "name": "ipython",
    "version": 3
   },
   "file_extension": ".py",
   "mimetype": "text/x-python",
   "name": "python",
   "nbconvert_exporter": "python",
   "pygments_lexer": "ipython3",
   "version": "3.7.3"
  }
 },
 "nbformat": 4,
 "nbformat_minor": 4
}
