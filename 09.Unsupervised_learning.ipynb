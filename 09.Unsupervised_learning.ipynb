{
 "cells": [
  {
   "cell_type": "code",
   "execution_count": 1,
   "metadata": {},
   "outputs": [],
   "source": [
    "# default_exp unsupervised\n",
    "# default_cls_lvl 2"
   ]
  },
  {
   "cell_type": "markdown",
   "metadata": {},
   "source": [
    "# Chapter 9. Unsupervised Learning\n",
    ">"
   ]
  },
  {
   "cell_type": "markdown",
   "metadata": {},
   "source": [
    "- Although most of the applications of machine learning algorithms today are based on supervised learning, The vast majority of the available data is **unlabeled**.\n",
    "- We have the input $X$, but we don't have the labels $y$.\n",
    "- Yann LeCun: \"If intelligence was a cake, **Unsupervised Learning** would be the **cake**, **supervised learning** would be the **icing** on the cake, and **reinforcement learning** would be the **cherry** on the cake.\"\n",
    "- In this chapter we will look at a few unsupervised learning tasks and algorithms:\n",
    "    - Clustering: the goal is to group similar instances together into clusters.\n",
    "        - Clustering is a great tool for data analysis, customer segmentation, recommender systems, search engines, image segmentation, semi-supervised learning,..\n",
    "    - Anomaly Detection: This is the task of estimating the probability density function of the random process that generated the dataset.\n",
    "        - Instances located in very low-density regions are likley to be anomalies."
   ]
  },
  {
   "cell_type": "markdown",
   "metadata": {},
   "source": [
    "## Clustering"
   ]
  },
  {
   "cell_type": "markdown",
   "metadata": {},
   "source": [
    "- Clustering: identifying groups containing similar objects.\n",
    "- Consider the example of unsupervised clustering the Iris dataset\n",
    "    - If we remove its labels, we can't use classification algorithms.\n",
    "    - Unsupervised Learning Clustering make use of all available features to located clusters and assign all instances to one of them.\n",
    "        - Using a Gaussian Mixture Model, only 5/150 are assigned to the wrong cluster.\n",
    "- Clustering is used in:\n",
    "    - Customer Segmentation\n",
    "    - Data Analysis\n",
    "        - It might be useful to cluster the instance and analyse each separately.\n",
    "- Dimensionality Reduction\n",
    "    - By replacing the features with each instance's affinity to each cluster.\n",
    "- Anomaly Detection\n",
    "    - Any instance that have low affinity to all clusters is likely to be an outlier.\n",
    "- Semi-supervised Learning\n",
    "    - If you have a few labels, you can perform clustering and propagate the available labels to other instances within the clusters.\n",
    "- Search Engines\n",
    "    - Image similarity search: clustering available images & when a new item is provided by the user, cluster it using the same algorithm and return the top N centered items.\n",
    "- To segment an image\n",
    "    - By clustering pixels according to their color, then replacing pixel colors with the mean of its cluster.\n",
    "- There are different types of clustering algorithms and there isn't a universal definition of what a cluster is.\n",
    "- In this section, we will look at two widely used unsupervised learning clustering algorithms, the first one is `KMeans` and the second is `DBSCAN`."
   ]
  },
  {
   "cell_type": "markdown",
   "metadata": {},
   "source": [
    "### K-Means"
   ]
  },
  {
   "cell_type": "markdown",
   "metadata": {},
   "source": [
    "- Let's start with makes some data:"
   ]
  },
  {
   "cell_type": "code",
   "execution_count": 2,
   "metadata": {},
   "outputs": [],
   "source": [
    "from sklearn import datasets\n",
    "import matplotlib.pyplot as plt"
   ]
  },
  {
   "cell_type": "code",
   "execution_count": 3,
   "metadata": {},
   "outputs": [],
   "source": [
    "X, y = datasets.make_blobs(n_samples=1000, n_features=2, centers=5, cluster_std=[0.5, 0.5, 0.5, 1, 1])"
   ]
  },
  {
   "cell_type": "code",
   "execution_count": 4,
   "metadata": {},
   "outputs": [
    {
     "data": {
      "image/png": "[encoded data removed]",
      "text/plain": [
       "<Figure size 576x576 with 1 Axes>"
      ]
     },
     "metadata": {
      "needs_background": "light"
     },
     "output_type": "display_data"
    }
   ],
   "source": [
    "plt.figure(figsize=(8, 8))\n",
    "plt.scatter(X[:, 0], X[:, 1], s=2)\n",
    "plt.xlabel('x1')\n",
    "plt.ylabel('x2')\n",
    "plt.show()"
   ]
  },
  {
   "cell_type": "markdown",
   "metadata": {},
   "source": [
    "- Let's train a k-means clusterer on this dataset."
   ]
  },
  {
   "cell_type": "code",
   "execution_count": 5,
   "metadata": {},
   "outputs": [],
   "source": [
    "from sklearn.cluster import KMeans"
   ]
  },
  {
   "cell_type": "code",
   "execution_count": 6,
   "metadata": {},
   "outputs": [],
   "source": [
    "k = 5"
   ]
  },
  {
   "cell_type": "code",
   "execution_count": 7,
   "metadata": {},
   "outputs": [],
   "source": [
    "kmeans = KMeans(n_clusters=k)"
   ]
  },
  {
   "cell_type": "code",
   "execution_count": 8,
   "metadata": {},
   "outputs": [],
   "source": [
    "y_pred = kmeans.fit_predict(X)"
   ]
  },
  {
   "cell_type": "markdown",
   "metadata": {},
   "source": [
    "- Note that you have to specify the number of clusters to be found.\n"
   ]
  },
  {
   "cell_type": "code",
   "execution_count": 9,
   "metadata": {},
   "outputs": [
    {
     "data": {
      "text/plain": [
       "True"
      ]
     },
     "execution_count": 9,
     "metadata": {},
     "output_type": "execute_result"
    }
   ],
   "source": [
    "y_pred is kmeans.labels_"
   ]
  },
  {
   "cell_type": "markdown",
   "metadata": {},
   "source": [
    "- We can also take a look at the five centroids the algorithm found:"
   ]
  },
  {
   "cell_type": "code",
   "execution_count": 10,
   "metadata": {},
   "outputs": [
    {
     "data": {
      "text/plain": [
       "array([[-8.83963543, -7.83211351],\n",
       "       [-3.79699191,  7.05763294],\n",
       "       [ 8.84811103, -0.47723063],\n",
       "       [ 6.65725535, -3.65718066],\n",
       "       [-4.61472066,  9.44482072]])"
      ]
     },
     "execution_count": 10,
     "metadata": {},
     "output_type": "execute_result"
    }
   ],
   "source": [
    "kmeans.cluster_centers_"
   ]
  },
  {
   "cell_type": "markdown",
   "metadata": {},
   "source": [
    "- We can easily predict the cluster of new instances:"
   ]
  },
  {
   "cell_type": "code",
   "execution_count": 11,
   "metadata": {},
   "outputs": [],
   "source": [
    "X_new = np.array([[0, 2], [3, 2], [-3, 3], [-3, 2.5]])"
   ]
  },
  {
   "cell_type": "code",
   "execution_count": 12,
   "metadata": {},
   "outputs": [
    {
     "data": {
      "text/plain": [
       "array([1, 2, 1, 1], dtype=int32)"
      ]
     },
     "execution_count": 12,
     "metadata": {},
     "output_type": "execute_result"
    }
   ],
   "source": [
    "kmeans.predict(X_new)"
   ]
  },
  {
   "cell_type": "markdown",
   "metadata": {},
   "source": [
    "- By plotting the algorithm's decision boundaries, we get a Voronoi tesselation:"
   ]
  },
  {
   "cell_type": "code",
   "execution_count": 13,
   "metadata": {},
   "outputs": [],
   "source": [
    "# Plotting decision regions\n",
    "x_min, x_max = X[:, 0].min() - 1, X[:, 0].max() + 1\n",
    "y_min, y_max = X[:, 1].min() - 1, X[:, 1].max() + 1\n",
    "xx, yy = np.meshgrid(np.arange(x_min, x_max, 0.1),\n",
    "                     np.arange(y_min, y_max, 0.1))"
   ]
  },
  {
   "cell_type": "code",
   "execution_count": 14,
   "metadata": {},
   "outputs": [],
   "source": [
    "Z = kmeans.predict(np.c_[xx.ravel(), yy.ravel()])\n",
    "Z = Z.reshape(xx.shape)"
   ]
  },
  {
   "cell_type": "code",
   "execution_count": 15,
   "metadata": {},
   "outputs": [
    {
     "data": {
      "image/png": "[encoded data removed]",
      "text/plain": [
       "<Figure size 576x576 with 1 Axes>"
      ]
     },
     "metadata": {
      "needs_background": "light"
     },
     "output_type": "display_data"
    }
   ],
   "source": [
    "plt.figure(figsize=(8, 8))\n",
    "plt.contourf(xx, yy, Z, alpha=0.4)\n",
    "plt.scatter(X[:, 0], X[:, 1], c=y_pred, s=20, edgecolor='k')\n",
    "plt.show()"
   ]
  },
  {
   "cell_type": "markdown",
   "metadata": {},
   "source": [
    "- The vast majority of the instances were clearly assigned to their original cluster.\n",
    "- All KMeans cares about is the distance between instances and the centroids.\n",
    "- Instead of assigning each instance to a cluster (hard clustering) it's better to give a per-instance cluster score (soft clustering).\n",
    "    - The score can be the distance between the instance and the centroids.\n",
    "        - This can also be a good dimensionality reduction technique.\n",
    "- In `sklearn`, the `transform` method measures the distance between each instance and the centroids."
   ]
  },
  {
   "cell_type": "code",
   "execution_count": 16,
   "metadata": {},
   "outputs": [
    {
     "data": {
      "text/plain": [
       "array([[13.22155855,  6.32430222,  9.18834808,  8.73628879,  8.75905259],\n",
       "       [15.38984805,  8.47223406,  6.35114747,  6.73640926, 10.64938149],\n",
       "       [12.30593454,  4.13516399, 12.34782847, 11.72947719,  6.64402264],\n",
       "       [11.86818905,  4.62679308, 12.21644945, 11.45309803,  7.13006715]])"
      ]
     },
     "execution_count": 16,
     "metadata": {},
     "output_type": "execute_result"
    }
   ],
   "source": [
    "kmeans.transform(X_new)"
   ]
  },
  {
   "cell_type": "markdown",
   "metadata": {},
   "source": [
    "### `KMeans` Algorithm"
   ]
  },
  {
   "cell_type": "markdown",
   "metadata": {},
   "source": [
    "- How does the algorithm work?\n",
    "- Suppose you were given the centroids.\n",
    "- You could easily label all the instances in the dataset by assigning each of them to the cluster with the closest centroid.\n",
    "- Conversely, if you were given all the instance labels, you could easily locate all the centroids by computing the mean of the instances within each cluster.\n",
    "- But you are given neither the labels nor the centroids, so how can you proceed?\n",
    "- **By just picking centroids randomly**\n",
    "    - By picking $k$ instance at random and using their locations as centroids\n",
    "- **Then label the instances, update the centroids, label the instances, update the centroids, and so on until the centroids stop moving**.\n",
    "- **The algorithm is guaranteed to converge in a finite number of steps (usually very small) & It will not oscillate forever**.\n",
    "- The computational complexity of the algorithm is generally linear with regard to the number of instances $m$, the number of clusters $k$, and the number of dimensions $n$.\n",
    "    - However, this is only true when the data has a clustering structure.\n",
    "    - It has an expenential complexity if the instances are not in structurly in clusters.\n",
    "- `KMeans` is generally one of the fastest clustering algorithms.\n",
    "- Even though the algorithm is guaranteed to converge, it may not converge to the right solution.\n",
    "    - It may converge to a local optimum.\n",
    "    - **It all depends on the initialization step**.\n",
    "- Let's look at how we can mitigate this:"
   ]
  },
  {
   "cell_type": "markdown",
   "metadata": {},
   "source": [
    "### Centroid Initialization Methods"
   ]
  },
  {
   "cell_type": "markdown",
   "metadata": {},
   "source": [
    "- If you happen to know approximately where the centroids should be (using `DBSCAN` for example), then you can initialize `KMeans` properly:"
   ]
  },
  {
   "cell_type": "code",
   "execution_count": 17,
   "metadata": {},
   "outputs": [],
   "source": [
    "good_init = np.array([[-3, 3], [-3, 2], [-3, 1], [-1, 2], [0, 2]])"
   ]
  },
  {
   "cell_type": "code",
   "execution_count": 18,
   "metadata": {},
   "outputs": [],
   "source": [
    "kmeans = KMeans(n_clusters=5, init=good_init, n_init=1)"
   ]
  },
  {
   "cell_type": "markdown",
   "metadata": {},
   "source": [
    "- Another solution is to **run the algorithm multiple times with different random initialization and keep the best solution, it is controlled by the `n_init` hyperparameter.\n",
    "    - `Scikit-learn` will keep the best solution for you by running the algorithm `n_init` times.\n",
    "- But to know what signifies the word `best`, it uses a performance metric, that metric is called the `interia`\n",
    "    - **Which is the mean squared distance between each centroid and its corresponding instances**.\n",
    "- An important improvement to the `KMeans` algorithm is `K-Means++` which introduces a smarter initialization strategy that tend to select centroids that are distant from one another.\n",
    "    - This improvement makes the algorithm much less likely to converge to a sub-optimal solution.\n",
    "    - The extra compute is well worth it since it reduces the needed `n_init` value.\n",
    "- Here is the `K-Means++` Initialization Steps:\n",
    "    1. Take 1 centroid $c^{(1)}$ taken uniformely-randomly from the dataset.\n",
    "    2. Take a new centroid $c^{(i)}$, choosing an instance $x^{(i)}$ with probability $\\frac{D(x^{(i)})^2}{\\sum_{j=1}^{m}D(x^{(j)})^2}$\n",
    "        - $D(x^{(i)})$ is the distance between $x^{(i)}$ and the **closest** centroid that was already chosen.\n",
    "    3. Repeat the previous step until all $k$ centroids have been chosen."
   ]
  },
  {
   "cell_type": "markdown",
   "metadata": {},
   "source": [
    "### Accelerated `K-Means` and `Mini-Batch K-Means`"
   ]
  },
  {
   "cell_type": "markdown",
   "metadata": {},
   "source": [
    "- Another [important improvement](https://www.aaai.org/Papers/ICML/2003/ICML03-022.pdf) to the K-means algorithm was proposed and it considerably accelerated the algorithm by avoiding many unecessary distance calculations.\n",
    "- This was achieved by exploiting the triangle inequality.\n",
    "    - The Norm of a Straight line is always the shortest distance between two points.\n",
    "- And by keeping track of lower and upper bounds for distances between instances and centroids.\n",
    "- This Improvement is also implemented within `sklearn`.\n",
    "- Another [paper](http://www.ra.ethz.ch/CDstore/www2010/www/p1177.pdf) proposed using mini-batches instead of the whole dataset for each iteration.\n",
    "- This **Speeds up** the algorithm typically by a factor of three or four and make it possible to cluster huge datasets that don't fit into memory.\n",
    "- Let's use it in `sklearn`:"
   ]
  },
  {
   "cell_type": "code",
   "execution_count": 19,
   "metadata": {},
   "outputs": [],
   "source": [
    "from sklearn.cluster import MiniBatchKMeans"
   ]
  },
  {
   "cell_type": "code",
   "execution_count": 20,
   "metadata": {},
   "outputs": [],
   "source": [
    "minibatch_kmeans = MiniBatchKMeans(n_clusters=5)"
   ]
  },
  {
   "cell_type": "code",
   "execution_count": 21,
   "metadata": {},
   "outputs": [
    {
     "data": {
      "text/plain": [
       "MiniBatchKMeans(batch_size=100, compute_labels=True, init='k-means++',\n",
       "                init_size=None, max_iter=100, max_no_improvement=10,\n",
       "                n_clusters=5, n_init=3, random_state=None,\n",
       "                reassignment_ratio=0.01, tol=0.0, verbose=0)"
      ]
     },
     "execution_count": 21,
     "metadata": {},
     "output_type": "execute_result"
    }
   ],
   "source": [
    "minibatch_kmeans.fit(X)"
   ]
  },
  {
   "cell_type": "markdown",
   "metadata": {},
   "source": [
    "- If our dataset can't fit in memory, we can use `memmap` with the `partial_fit()` method.\n",
    "- The advantage of using `MiniBtachKMeans` becomes significant when we choose a big `k` for clusters.\n",
    "    - Batching becomes much faster and the performance stays roughly the same:\n",
    "\n",
    "<div style=\"text-align:center\">\n",
    "    <img style=\"width:50%\" src=\"static/imgs/inretia_speed.png\">\n",
    "</div>"
   ]
  },
  {
   "cell_type": "markdown",
   "metadata": {},
   "source": [
    "### Finding the Optimal Number of Clusters"
   ]
  },
  {
   "cell_type": "markdown",
   "metadata": {},
   "source": [
    "- You might be thinking that we can just pick the model with the lowest inretia.\n",
    "    - Because increasing `k` will always give you a lower inretia.\n",
    "- Let's visualize inretia as a function of `k`:\n",
    "\n",
    "<div style=\"text-align:center\">\n",
    "    <img style=\"width:50%\" src=\"static/imgs/k_to_inretia.png\">\n",
    "</div>\n",
    "\n",
    "- As you may see, the inretia drops big when we go from $3$ to $4$ but then it decreases much more slowly we continue to increase $k$.\n",
    "- This curve has roughly the shape of an arm and there is an elbow at $k=4$. So we pick $4$.\n",
    "    - This method of choosing the optimal number of clusters is rather coarse.\n",
    "- A more precise and computationally expensive appraoch is to use the **silhouette score**, which is the mean silhouette coefficient over all the instances.\n",
    "- An instance silhouette score is equal to $\\frac{b-a}{max(a,b)} \\in [-1,1]$\n",
    "    - $a$: mean distance to other instances in the same cluster.\n",
    "    - $b$: mean distance to instances in the next closest cluster.\n",
    "    - $+1$ means the instance is well inside its own cluster and far from other clusters.\n",
    "    - $0$ means the instance is sitting on the edge between two clusters.\n",
    "    - $-1$ means the instance may just be on the wrong cluster.\n",
    "- The silhouette score measure a cluster **density** score.\n",
    "- Let's compute it using `sklearn`:"
   ]
  },
  {
   "cell_type": "code",
   "execution_count": 22,
   "metadata": {},
   "outputs": [],
   "source": [
    "from sklearn.metrics import silhouette_score"
   ]
  },
  {
   "cell_type": "code",
   "execution_count": null,
   "metadata": {},
   "outputs": [],
   "source": []
  },
  {
   "cell_type": "code",
   "execution_count": null,
   "metadata": {},
   "outputs": [],
   "source": []
  },
  {
   "cell_type": "code",
   "execution_count": null,
   "metadata": {},
   "outputs": [],
   "source": []
  },
  {
   "cell_type": "code",
   "execution_count": null,
   "metadata": {},
   "outputs": [],
   "source": []
  },
  {
   "cell_type": "code",
   "execution_count": null,
   "metadata": {},
   "outputs": [],
   "source": []
  }
 ],
 "metadata": {
  "kernelspec": {
   "display_name": "Python 3",
   "language": "python",
   "name": "python3"
  },
  "language_info": {
   "codemirror_mode": {
    "name": "ipython",
    "version": 3
   },
   "file_extension": ".py",
   "mimetype": "text/x-python",
   "name": "python",
   "nbconvert_exporter": "python",
   "pygments_lexer": "ipython3",
   "version": "3.7.5"
  }
 },
 "nbformat": 4,
 "nbformat_minor": 4
}
