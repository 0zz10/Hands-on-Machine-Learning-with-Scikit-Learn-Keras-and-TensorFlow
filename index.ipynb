{
 "cells": [
  {
   "cell_type": "markdown",
   "metadata": {},
   "source": [
    "# Hands-on ML with Scikit-Learn, Keras & TF by Aurelien Geron\n",
    "> "
   ]
  },
  {
   "cell_type": "markdown",
   "metadata": {},
   "source": [
    "<div style=\"text-align:center\"><img style=\"width:100%\" src=\"static/imgs/book_cover.png\"></div>\n",
    "\n",
    "- This Books assumes you know close to nothing about machine learning.\n",
    "- We will be using production-ready Python frameworks\n",
    "    - Scikit-Learn\n",
    "    - Keras\n",
    "    - TensorFlow\n",
    "- This book favors a hands-on approach through a series of working examples and just a little bit of theory.\n",
    "- Prerequesites\n",
    "    - Some Python programming experience\n",
    "    - Familiarity with NumPy, Pandas, and Matplotlib\n",
    "    - A reasonable understanding of college-level math (calculus, probability, Linear Algebra, and statistics)\n",
    "- The first part of the book is mostly based on Scikit-Learn, while the 2nd part is using Keras/TensorFlow."
   ]
  },
  {
   "cell_type": "markdown",
   "metadata": {},
   "source": [
    "## Roadmap\n",
    "\n",
    "### 1. The Fundamentals of Machine Learning\n",
    "- [The Machine Learning Landscape](https://akramz.github.io/Hands-on-Machine-Learning-with-Scikit-Learn-Keras-and-TensorFlow/01.ML_Landscape)\n",
    "- [End-to-End Machine Learning Project](https://akramz.github.io/Hands-on-Machine-Learning-with-Scikit-Learn-Keras-and-TensorFlow/02.End-to-End-ML-Project)\n",
    "- [Classification](https://akramz.github.io/Hands-on-Machine-Learning-with-Scikit-Learn-Keras-and-TensorFlow/03.Classification)\n",
    "- [Training Models](https://akramz.github.io/Hands-on-Machine-Learning-with-Scikit-Learn-Keras-and-TensorFlow/04.Training-Models)\n",
    "- [Support Vector Machines](https://akramz.github.io/Hands-on-Machine-Learning-with-Scikit-Learn-Keras-and-TensorFlow/05.SVMs)\n",
    "- [Decision Trees](https://akramz.github.io/Hands-on-Machine-Learning-with-Scikit-Learn-Keras-and-TensorFlow/06.Decision_Trees)\n",
    "- [Ensemble Learning and Random Forests](https://akramz.github.io/Hands-on-Machine-Learning-with-Scikit-Learn-Keras-and-TensorFlow/07.Ensembles_RFs)\n",
    "- [Dimensionality Reduction](https://akramz.github.io/Hands-on-Machine-Learning-with-Scikit-Learn-Keras-and-TensorFlow/08.Dim_Reduction)\n",
    "- [Unsupervised Learning Techniques](https://akramz.github.io/Hands-on-Machine-Learning-with-Scikit-Learn-Keras-and-TensorFlow/09.Unsupervised_learning)\n",
    "---"
   ]
  }
 ],
 "metadata": {
  "kernelspec": {
   "display_name": "Python 3",
   "language": "python",
   "name": "python3"
  },
  "language_info": {
   "codemirror_mode": {
    "name": "ipython",
    "version": 3
   },
   "file_extension": ".py",
   "mimetype": "text/x-python",
   "name": "python",
   "nbconvert_exporter": "python",
   "pygments_lexer": "ipython3",
   "version": "3.7.5"
  }
 },
 "nbformat": 4,
 "nbformat_minor": 4
}
