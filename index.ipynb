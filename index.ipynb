{
 "cells": [
  {
   "cell_type": "markdown",
   "metadata": {},
   "source": [
    "# Hands-on ML with Scikit-Learn, Keras & TF by Aurelien Geron\n",
    "> "
   ]
  },
  {
   "cell_type": "markdown",
   "metadata": {},
   "source": [
    "<div style=\"text-align:center\"><img style=\"width:100%\" src=\"static/imgs/book_cover.png\"></div>\n",
    "\n",
    "- This Books assumes you know close to nothing about machine learning.\n",
    "- We will cover a large number of machine learning techniques, from the most simpleset and widely used (Linear Regression) to deep learning techniques that win competitions.\n",
    "- We will be using production-ready Python frameworks\n",
    "    - Scikit-Learn\n",
    "    - Keras\n",
    "    - TensorFlow\n",
    "- This book favors a hands-on approach through a series of working examples and just a little bit of theory.\n",
    "- Prerequesites\n",
    "    - Some Python programming experience\n",
    "    - Familiarity with NumPy, Pandas, and Matplotlib\n",
    "    - A reasonable understanding of college-level math (calculus, probability, Linear Algebra, and statistics)\n",
    "- The first part of the book is mostly based on Scikit-Learn, while the 2nd part is using Keras/TensorFlow."
   ]
  },
  {
   "cell_type": "markdown",
   "metadata": {},
   "source": [
    "## Roadmap\n",
    "\n",
    "### 1. The Fundamentals of Machine Learning\n",
    "- [The Machine Learning Landscape](01.ML_Landscape.ipynb)\n",
    "- [End-to-End Machine Learning Project](02.End-to-End-ML-Project.ipynb)\n",
    "- [Classification](03.Classification.ipynb)\n",
    "- [Training Models](04.Training-Models.ipynb)\n",
    "- [Support Vector Machines](05.SVMs.ipynb)\n",
    "- [Decision Trees](06.Decision_Trees.ipynb)\n",
    "- [Ensemble Learning and Random Forests](07.Ensembles_RFs.ipynb)\n",
    "- Dimensionality Reduction\n",
    "- Unsupervised Learning Techniques\n",
    "\n",
    "### 2. Neural Networks & Deep Learning\n",
    "- Introduction to Artificial Neural Networks with Keras\n",
    "- Training Deep Neural Networks\n",
    "- Custom models and training with TensorFlow\n",
    "- Loading and Preprocessing Data with TensorFlow\n",
    "- Deep Computer Vision using Convolutional Neural Networks\n",
    "- Processing Sequences Using RNNs and CNNs\n",
    "- Natural Language Processing with RNNs and Attention\n",
    "- Representation Learning and Generative Learning Using Autoencoders and GANs\n",
    "- Reinforcement Learning\n",
    "- Training and Deploying TensorFlow Models at Scale\n",
    "\n",
    "---"
   ]
  }
 ],
 "metadata": {
  "kernelspec": {
   "display_name": "Python 3",
   "language": "python",
   "name": "python3"
  },
  "language_info": {
   "codemirror_mode": {
    "name": "ipython",
    "version": 3
   },
   "file_extension": ".py",
   "mimetype": "text/x-python",
   "name": "python",
   "nbconvert_exporter": "python",
   "pygments_lexer": "ipython3",
   "version": "3.7.5"
  }
 },
 "nbformat": 4,
 "nbformat_minor": 4
}
